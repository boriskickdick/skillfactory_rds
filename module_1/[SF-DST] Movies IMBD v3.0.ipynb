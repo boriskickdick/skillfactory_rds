{
 "cells": [
  {
   "cell_type": "code",
   "execution_count": 1,
   "metadata": {
    "_cell_guid": "b1076dfc-b9ad-4769-8c92-a6c4dae69d19",
    "_uuid": "8f2839f25d086af736a60e9eeb907d3b93b6e0e5"
   },
   "outputs": [],
   "source": [
    "import numpy as np\n",
    "import pandas as pd\n",
    "import seaborn as sns\n",
    "import matplotlib.pyplot as plt\n",
    "import os\n",
    "from collections import Counter\n",
    "from itertools import combinations"
   ]
  },
  {
   "cell_type": "code",
   "execution_count": 2,
   "metadata": {},
   "outputs": [
    {
     "data": {
      "text/html": [
       "<div>\n",
       "<style scoped>\n",
       "    .dataframe tbody tr th:only-of-type {\n",
       "        vertical-align: middle;\n",
       "    }\n",
       "\n",
       "    .dataframe tbody tr th {\n",
       "        vertical-align: top;\n",
       "    }\n",
       "\n",
       "    .dataframe thead th {\n",
       "        text-align: right;\n",
       "    }\n",
       "</style>\n",
       "<table border=\"1\" class=\"dataframe\">\n",
       "  <thead>\n",
       "    <tr style=\"text-align: right;\">\n",
       "      <th></th>\n",
       "      <th>imdb_id</th>\n",
       "      <th>popularity</th>\n",
       "      <th>budget</th>\n",
       "      <th>revenue</th>\n",
       "      <th>original_title</th>\n",
       "      <th>cast</th>\n",
       "      <th>director</th>\n",
       "      <th>tagline</th>\n",
       "      <th>overview</th>\n",
       "      <th>runtime</th>\n",
       "      <th>genres</th>\n",
       "      <th>production_companies</th>\n",
       "      <th>release_date</th>\n",
       "      <th>vote_count</th>\n",
       "      <th>vote_average</th>\n",
       "      <th>release_year</th>\n",
       "    </tr>\n",
       "  </thead>\n",
       "  <tbody>\n",
       "    <tr>\n",
       "      <th>0</th>\n",
       "      <td>tt0369610</td>\n",
       "      <td>32.985763</td>\n",
       "      <td>150000000</td>\n",
       "      <td>1513528810</td>\n",
       "      <td>Jurassic World</td>\n",
       "      <td>Chris Pratt|Bryce Dallas Howard|Irrfan Khan|Vi...</td>\n",
       "      <td>Colin Trevorrow</td>\n",
       "      <td>The park is open.</td>\n",
       "      <td>Twenty-two years after the events of Jurassic ...</td>\n",
       "      <td>124</td>\n",
       "      <td>Action|Adventure|Science Fiction|Thriller</td>\n",
       "      <td>Universal Studios|Amblin Entertainment|Legenda...</td>\n",
       "      <td>6/9/2015</td>\n",
       "      <td>5562</td>\n",
       "      <td>6.5</td>\n",
       "      <td>2015</td>\n",
       "    </tr>\n",
       "    <tr>\n",
       "      <th>1</th>\n",
       "      <td>tt1392190</td>\n",
       "      <td>28.419936</td>\n",
       "      <td>150000000</td>\n",
       "      <td>378436354</td>\n",
       "      <td>Mad Max: Fury Road</td>\n",
       "      <td>Tom Hardy|Charlize Theron|Hugh Keays-Byrne|Nic...</td>\n",
       "      <td>George Miller</td>\n",
       "      <td>What a Lovely Day.</td>\n",
       "      <td>An apocalyptic story set in the furthest reach...</td>\n",
       "      <td>120</td>\n",
       "      <td>Action|Adventure|Science Fiction|Thriller</td>\n",
       "      <td>Village Roadshow Pictures|Kennedy Miller Produ...</td>\n",
       "      <td>5/13/2015</td>\n",
       "      <td>6185</td>\n",
       "      <td>7.1</td>\n",
       "      <td>2015</td>\n",
       "    </tr>\n",
       "    <tr>\n",
       "      <th>2</th>\n",
       "      <td>tt2908446</td>\n",
       "      <td>13.112507</td>\n",
       "      <td>110000000</td>\n",
       "      <td>295238201</td>\n",
       "      <td>Insurgent</td>\n",
       "      <td>Shailene Woodley|Theo James|Kate Winslet|Ansel...</td>\n",
       "      <td>Robert Schwentke</td>\n",
       "      <td>One Choice Can Destroy You</td>\n",
       "      <td>Beatrice Prior must confront her inner demons ...</td>\n",
       "      <td>119</td>\n",
       "      <td>Adventure|Science Fiction|Thriller</td>\n",
       "      <td>Summit Entertainment|Mandeville Films|Red Wago...</td>\n",
       "      <td>3/18/2015</td>\n",
       "      <td>2480</td>\n",
       "      <td>6.3</td>\n",
       "      <td>2015</td>\n",
       "    </tr>\n",
       "    <tr>\n",
       "      <th>3</th>\n",
       "      <td>tt2488496</td>\n",
       "      <td>11.173104</td>\n",
       "      <td>200000000</td>\n",
       "      <td>2068178225</td>\n",
       "      <td>Star Wars: The Force Awakens</td>\n",
       "      <td>Harrison Ford|Mark Hamill|Carrie Fisher|Adam D...</td>\n",
       "      <td>J.J. Abrams</td>\n",
       "      <td>Every generation has a story.</td>\n",
       "      <td>Thirty years after defeating the Galactic Empi...</td>\n",
       "      <td>136</td>\n",
       "      <td>Action|Adventure|Science Fiction|Fantasy</td>\n",
       "      <td>Lucasfilm|Truenorth Productions|Bad Robot</td>\n",
       "      <td>12/15/2015</td>\n",
       "      <td>5292</td>\n",
       "      <td>7.5</td>\n",
       "      <td>2015</td>\n",
       "    </tr>\n",
       "    <tr>\n",
       "      <th>4</th>\n",
       "      <td>tt2820852</td>\n",
       "      <td>9.335014</td>\n",
       "      <td>190000000</td>\n",
       "      <td>1506249360</td>\n",
       "      <td>Furious 7</td>\n",
       "      <td>Vin Diesel|Paul Walker|Jason Statham|Michelle ...</td>\n",
       "      <td>James Wan</td>\n",
       "      <td>Vengeance Hits Home</td>\n",
       "      <td>Deckard Shaw seeks revenge against Dominic Tor...</td>\n",
       "      <td>137</td>\n",
       "      <td>Action|Crime|Thriller</td>\n",
       "      <td>Universal Pictures|Original Film|Media Rights ...</td>\n",
       "      <td>4/1/2015</td>\n",
       "      <td>2947</td>\n",
       "      <td>7.3</td>\n",
       "      <td>2015</td>\n",
       "    </tr>\n",
       "  </tbody>\n",
       "</table>\n",
       "</div>"
      ],
      "text/plain": [
       "     imdb_id  popularity     budget     revenue                original_title  \\\n",
       "0  tt0369610   32.985763  150000000  1513528810                Jurassic World   \n",
       "1  tt1392190   28.419936  150000000   378436354            Mad Max: Fury Road   \n",
       "2  tt2908446   13.112507  110000000   295238201                     Insurgent   \n",
       "3  tt2488496   11.173104  200000000  2068178225  Star Wars: The Force Awakens   \n",
       "4  tt2820852    9.335014  190000000  1506249360                     Furious 7   \n",
       "\n",
       "                                                cast          director  \\\n",
       "0  Chris Pratt|Bryce Dallas Howard|Irrfan Khan|Vi...   Colin Trevorrow   \n",
       "1  Tom Hardy|Charlize Theron|Hugh Keays-Byrne|Nic...     George Miller   \n",
       "2  Shailene Woodley|Theo James|Kate Winslet|Ansel...  Robert Schwentke   \n",
       "3  Harrison Ford|Mark Hamill|Carrie Fisher|Adam D...       J.J. Abrams   \n",
       "4  Vin Diesel|Paul Walker|Jason Statham|Michelle ...         James Wan   \n",
       "\n",
       "                         tagline  \\\n",
       "0              The park is open.   \n",
       "1             What a Lovely Day.   \n",
       "2     One Choice Can Destroy You   \n",
       "3  Every generation has a story.   \n",
       "4            Vengeance Hits Home   \n",
       "\n",
       "                                            overview  runtime  \\\n",
       "0  Twenty-two years after the events of Jurassic ...      124   \n",
       "1  An apocalyptic story set in the furthest reach...      120   \n",
       "2  Beatrice Prior must confront her inner demons ...      119   \n",
       "3  Thirty years after defeating the Galactic Empi...      136   \n",
       "4  Deckard Shaw seeks revenge against Dominic Tor...      137   \n",
       "\n",
       "                                      genres  \\\n",
       "0  Action|Adventure|Science Fiction|Thriller   \n",
       "1  Action|Adventure|Science Fiction|Thriller   \n",
       "2         Adventure|Science Fiction|Thriller   \n",
       "3   Action|Adventure|Science Fiction|Fantasy   \n",
       "4                      Action|Crime|Thriller   \n",
       "\n",
       "                                production_companies release_date  vote_count  \\\n",
       "0  Universal Studios|Amblin Entertainment|Legenda...     6/9/2015        5562   \n",
       "1  Village Roadshow Pictures|Kennedy Miller Produ...    5/13/2015        6185   \n",
       "2  Summit Entertainment|Mandeville Films|Red Wago...    3/18/2015        2480   \n",
       "3          Lucasfilm|Truenorth Productions|Bad Robot   12/15/2015        5292   \n",
       "4  Universal Pictures|Original Film|Media Rights ...     4/1/2015        2947   \n",
       "\n",
       "   vote_average  release_year  \n",
       "0           6.5          2015  \n",
       "1           7.1          2015  \n",
       "2           6.3          2015  \n",
       "3           7.5          2015  \n",
       "4           7.3          2015  "
      ]
     },
     "execution_count": 2,
     "metadata": {},
     "output_type": "execute_result"
    }
   ],
   "source": [
    "data = pd.read_csv('C:/Users/Huhuran/Documents/ipynb/data.csv')\n",
    "# parse_dates=['release_date']\n",
    "# data['release_month'] = data.release_date.dt.month\n",
    "data.head(5)"
   ]
  },
  {
   "cell_type": "code",
   "execution_count": 5,
   "metadata": {},
   "outputs": [
    {
     "data": {
      "text/plain": [
       "1890"
      ]
     },
     "execution_count": 5,
     "metadata": {},
     "output_type": "execute_result"
    }
   ],
   "source": [
    "len(data)"
   ]
  },
  {
   "cell_type": "code",
   "execution_count": 17,
   "metadata": {},
   "outputs": [
    {
     "data": {
      "text/html": [
       "<div>\n",
       "<style scoped>\n",
       "    .dataframe tbody tr th:only-of-type {\n",
       "        vertical-align: middle;\n",
       "    }\n",
       "\n",
       "    .dataframe tbody tr th {\n",
       "        vertical-align: top;\n",
       "    }\n",
       "\n",
       "    .dataframe thead th {\n",
       "        text-align: right;\n",
       "    }\n",
       "</style>\n",
       "<table border=\"1\" class=\"dataframe\">\n",
       "  <thead>\n",
       "    <tr style=\"text-align: right;\">\n",
       "      <th></th>\n",
       "      <th>imdb_id</th>\n",
       "      <th>popularity</th>\n",
       "      <th>budget</th>\n",
       "      <th>revenue</th>\n",
       "      <th>original_title</th>\n",
       "      <th>cast</th>\n",
       "      <th>director</th>\n",
       "      <th>tagline</th>\n",
       "      <th>overview</th>\n",
       "      <th>runtime</th>\n",
       "      <th>genres</th>\n",
       "      <th>production_companies</th>\n",
       "      <th>release_date</th>\n",
       "      <th>vote_count</th>\n",
       "      <th>vote_average</th>\n",
       "      <th>release_year</th>\n",
       "    </tr>\n",
       "  </thead>\n",
       "  <tbody>\n",
       "    <tr>\n",
       "      <th>491</th>\n",
       "      <td>tt1032751</td>\n",
       "      <td>0.25054</td>\n",
       "      <td>425000000</td>\n",
       "      <td>11087569</td>\n",
       "      <td>The Warrior's Way</td>\n",
       "      <td>Kate Bosworth|Jang Dong-gun|Geoffrey Rush|Dann...</td>\n",
       "      <td>Sngmoo Lee</td>\n",
       "      <td>Assassin. Hero. Legend.</td>\n",
       "      <td>An Asian assassin (Dong-gun Jang) is forced to...</td>\n",
       "      <td>100</td>\n",
       "      <td>Adventure|Fantasy|Action|Western|Thriller</td>\n",
       "      <td>Boram Entertainment Inc.</td>\n",
       "      <td>12/2/2010</td>\n",
       "      <td>74</td>\n",
       "      <td>6.4</td>\n",
       "      <td>2010</td>\n",
       "    </tr>\n",
       "  </tbody>\n",
       "</table>\n",
       "</div>"
      ],
      "text/plain": [
       "       imdb_id  popularity     budget   revenue     original_title  \\\n",
       "491  tt1032751     0.25054  425000000  11087569  The Warrior's Way   \n",
       "\n",
       "                                                  cast    director  \\\n",
       "491  Kate Bosworth|Jang Dong-gun|Geoffrey Rush|Dann...  Sngmoo Lee   \n",
       "\n",
       "                     tagline  \\\n",
       "491  Assassin. Hero. Legend.   \n",
       "\n",
       "                                              overview  runtime  \\\n",
       "491  An Asian assassin (Dong-gun Jang) is forced to...      100   \n",
       "\n",
       "                                        genres      production_companies  \\\n",
       "491  Adventure|Fantasy|Action|Western|Thriller  Boram Entertainment Inc.   \n",
       "\n",
       "    release_date  vote_count  vote_average  release_year  \n",
       "491    12/2/2010          74           6.4          2010  "
      ]
     },
     "execution_count": 17,
     "metadata": {},
     "output_type": "execute_result"
    }
   ],
   "source": [
    "data[data['budget'] == data['budget'].max()]"
   ]
  },
  {
   "cell_type": "markdown",
   "metadata": {},
   "source": [
    "# Предобработка датасета"
   ]
  },
  {
   "cell_type": "code",
   "execution_count": 11,
   "metadata": {},
   "outputs": [],
   "source": [
    "answer_ls = [] # создадим список с ответами. сюда будем добавлять ответы по мере прохождения теста\n",
    "# сюда можем вписать создание новых колонок в датасете"
   ]
  },
  {
   "cell_type": "markdown",
   "metadata": {},
   "source": [
    "# 1. У какого фильма из списка самый большой бюджет?\n",
    "Варианты ответов:\n",
    "1. The Dark Knight Rises (tt1345836)\n",
    "2. Spider-Man 3 (tt0413300)\n",
    "3. Avengers: Age of Ultron (tt2395427)\n",
    "4. The Warrior's Way\t(tt1032751)\n",
    "5. Pirates of the Caribbean: On Stranger Tides (tt1298650)"
   ]
  },
  {
   "cell_type": "code",
   "execution_count": 9,
   "metadata": {},
   "outputs": [
    {
     "data": {
      "text/html": [
       "<div>\n",
       "<style scoped>\n",
       "    .dataframe tbody tr th:only-of-type {\n",
       "        vertical-align: middle;\n",
       "    }\n",
       "\n",
       "    .dataframe tbody tr th {\n",
       "        vertical-align: top;\n",
       "    }\n",
       "\n",
       "    .dataframe thead th {\n",
       "        text-align: right;\n",
       "    }\n",
       "</style>\n",
       "<table border=\"1\" class=\"dataframe\">\n",
       "  <thead>\n",
       "    <tr style=\"text-align: right;\">\n",
       "      <th></th>\n",
       "      <th>imdb_id</th>\n",
       "      <th>popularity</th>\n",
       "      <th>budget</th>\n",
       "      <th>revenue</th>\n",
       "      <th>original_title</th>\n",
       "      <th>cast</th>\n",
       "      <th>director</th>\n",
       "      <th>tagline</th>\n",
       "      <th>overview</th>\n",
       "      <th>runtime</th>\n",
       "      <th>genres</th>\n",
       "      <th>production_companies</th>\n",
       "      <th>release_date</th>\n",
       "      <th>vote_count</th>\n",
       "      <th>vote_average</th>\n",
       "      <th>release_year</th>\n",
       "      <th>actor_pair_counter</th>\n",
       "      <th>profit</th>\n",
       "    </tr>\n",
       "  </thead>\n",
       "  <tbody>\n",
       "    <tr>\n",
       "      <th>491</th>\n",
       "      <td>tt1032751</td>\n",
       "      <td>0.25054</td>\n",
       "      <td>425000000</td>\n",
       "      <td>11087569</td>\n",
       "      <td>The Warrior's Way</td>\n",
       "      <td>Kate Bosworth|Jang Dong-gun|Geoffrey Rush|Dann...</td>\n",
       "      <td>Sngmoo Lee</td>\n",
       "      <td>Assassin. Hero. Legend.</td>\n",
       "      <td>An Asian assassin (Dong-gun Jang) is forced to...</td>\n",
       "      <td>100</td>\n",
       "      <td>Adventure|Fantasy|Action|Western|Thriller</td>\n",
       "      <td>Boram Entertainment Inc.</td>\n",
       "      <td>12/2/2010</td>\n",
       "      <td>74</td>\n",
       "      <td>6.4</td>\n",
       "      <td>2010</td>\n",
       "      <td>{('Kate Bosworth', 'Jang Dong-gun'): 1, ('Kate...</td>\n",
       "      <td>-413912431</td>\n",
       "    </tr>\n",
       "  </tbody>\n",
       "</table>\n",
       "</div>"
      ],
      "text/plain": [
       "       imdb_id  popularity     budget   revenue     original_title  \\\n",
       "491  tt1032751     0.25054  425000000  11087569  The Warrior's Way   \n",
       "\n",
       "                                                  cast    director  \\\n",
       "491  Kate Bosworth|Jang Dong-gun|Geoffrey Rush|Dann...  Sngmoo Lee   \n",
       "\n",
       "                     tagline  \\\n",
       "491  Assassin. Hero. Legend.   \n",
       "\n",
       "                                              overview  runtime  \\\n",
       "491  An Asian assassin (Dong-gun Jang) is forced to...      100   \n",
       "\n",
       "                                        genres      production_companies  \\\n",
       "491  Adventure|Fantasy|Action|Western|Thriller  Boram Entertainment Inc.   \n",
       "\n",
       "    release_date  vote_count  vote_average  release_year  \\\n",
       "491    12/2/2010          74           6.4          2010   \n",
       "\n",
       "                                    actor_pair_counter     profit  \n",
       "491  {('Kate Bosworth', 'Jang Dong-gun'): 1, ('Kate... -413912431  "
      ]
     },
     "execution_count": 9,
     "metadata": {},
     "output_type": "execute_result"
    }
   ],
   "source": [
    "data[data['budget'] == data['budget'].max()]"
   ]
  },
  {
   "cell_type": "code",
   "execution_count": 12,
   "metadata": {},
   "outputs": [],
   "source": [
    "# тут вводим ваш ответ и добавлем в его список ответов (сейчас для примера стоит \"1\")\n",
    "answer_ls.append(4)"
   ]
  },
  {
   "cell_type": "markdown",
   "metadata": {},
   "source": [
    "# 2. Какой из фильмов самый длительный (в минутах)\n",
    "1. The Lord of the Rings: The Return of the King\t(tt0167260)\n",
    "2. Gods and Generals\t(tt0279111)\n",
    "3. King Kong\t(tt0360717)\n",
    "4. Pearl Harbor\t(tt0213149)\n",
    "5. Alexander\t(tt0346491)"
   ]
  },
  {
   "cell_type": "code",
   "execution_count": 21,
   "metadata": {},
   "outputs": [
    {
     "data": {
      "text/html": [
       "<div>\n",
       "<style scoped>\n",
       "    .dataframe tbody tr th:only-of-type {\n",
       "        vertical-align: middle;\n",
       "    }\n",
       "\n",
       "    .dataframe tbody tr th {\n",
       "        vertical-align: top;\n",
       "    }\n",
       "\n",
       "    .dataframe thead th {\n",
       "        text-align: right;\n",
       "    }\n",
       "</style>\n",
       "<table border=\"1\" class=\"dataframe\">\n",
       "  <thead>\n",
       "    <tr style=\"text-align: right;\">\n",
       "      <th></th>\n",
       "      <th>imdb_id</th>\n",
       "      <th>popularity</th>\n",
       "      <th>budget</th>\n",
       "      <th>revenue</th>\n",
       "      <th>original_title</th>\n",
       "      <th>cast</th>\n",
       "      <th>director</th>\n",
       "      <th>tagline</th>\n",
       "      <th>overview</th>\n",
       "      <th>runtime</th>\n",
       "      <th>genres</th>\n",
       "      <th>production_companies</th>\n",
       "      <th>release_date</th>\n",
       "      <th>vote_count</th>\n",
       "      <th>vote_average</th>\n",
       "      <th>release_year</th>\n",
       "    </tr>\n",
       "  </thead>\n",
       "  <tbody>\n",
       "    <tr>\n",
       "      <th>1158</th>\n",
       "      <td>tt0279111</td>\n",
       "      <td>0.469518</td>\n",
       "      <td>56000000</td>\n",
       "      <td>12923936</td>\n",
       "      <td>Gods and Generals</td>\n",
       "      <td>Stephen Lang|Jeff Daniels|Robert Duvall|Kevin ...</td>\n",
       "      <td>Ronald F. Maxwell</td>\n",
       "      <td>The nations heart was touched by...</td>\n",
       "      <td>The film centers mostly around the personal an...</td>\n",
       "      <td>214</td>\n",
       "      <td>Drama|History|War</td>\n",
       "      <td>Turner Pictures|Antietam Filmworks</td>\n",
       "      <td>2/21/2003</td>\n",
       "      <td>23</td>\n",
       "      <td>5.8</td>\n",
       "      <td>2003</td>\n",
       "    </tr>\n",
       "  </tbody>\n",
       "</table>\n",
       "</div>"
      ],
      "text/plain": [
       "        imdb_id  popularity    budget   revenue     original_title  \\\n",
       "1158  tt0279111    0.469518  56000000  12923936  Gods and Generals   \n",
       "\n",
       "                                                   cast           director  \\\n",
       "1158  Stephen Lang|Jeff Daniels|Robert Duvall|Kevin ...  Ronald F. Maxwell   \n",
       "\n",
       "                                  tagline  \\\n",
       "1158  The nations heart was touched by...   \n",
       "\n",
       "                                               overview  runtime  \\\n",
       "1158  The film centers mostly around the personal an...      214   \n",
       "\n",
       "                 genres                production_companies release_date  \\\n",
       "1158  Drama|History|War  Turner Pictures|Antietam Filmworks    2/21/2003   \n",
       "\n",
       "      vote_count  vote_average  release_year  \n",
       "1158          23           5.8          2003  "
      ]
     },
     "execution_count": 21,
     "metadata": {},
     "output_type": "execute_result"
    }
   ],
   "source": [
    "data[data['runtime'] == data['runtime'].max()]"
   ]
  },
  {
   "cell_type": "code",
   "execution_count": 13,
   "metadata": {},
   "outputs": [],
   "source": [
    "answer_ls.append(2)"
   ]
  },
  {
   "cell_type": "markdown",
   "metadata": {},
   "source": [
    "# 3. Какой из фильмов самый короткий (в минутах)\n",
    "Варианты ответов:\n",
    "\n",
    "1. Home on the Range\ttt0299172\n",
    "2. The Jungle Book 2\ttt0283426\n",
    "3. Winnie the Pooh\ttt1449283\n",
    "4. Corpse Bride\ttt0121164\n",
    "5. Hoodwinked!\ttt0443536"
   ]
  },
  {
   "cell_type": "code",
   "execution_count": 23,
   "metadata": {},
   "outputs": [
    {
     "data": {
      "text/html": [
       "<div>\n",
       "<style scoped>\n",
       "    .dataframe tbody tr th:only-of-type {\n",
       "        vertical-align: middle;\n",
       "    }\n",
       "\n",
       "    .dataframe tbody tr th {\n",
       "        vertical-align: top;\n",
       "    }\n",
       "\n",
       "    .dataframe thead th {\n",
       "        text-align: right;\n",
       "    }\n",
       "</style>\n",
       "<table border=\"1\" class=\"dataframe\">\n",
       "  <thead>\n",
       "    <tr style=\"text-align: right;\">\n",
       "      <th></th>\n",
       "      <th>imdb_id</th>\n",
       "      <th>popularity</th>\n",
       "      <th>budget</th>\n",
       "      <th>revenue</th>\n",
       "      <th>original_title</th>\n",
       "      <th>cast</th>\n",
       "      <th>director</th>\n",
       "      <th>tagline</th>\n",
       "      <th>overview</th>\n",
       "      <th>runtime</th>\n",
       "      <th>genres</th>\n",
       "      <th>production_companies</th>\n",
       "      <th>release_date</th>\n",
       "      <th>vote_count</th>\n",
       "      <th>vote_average</th>\n",
       "      <th>release_year</th>\n",
       "    </tr>\n",
       "  </thead>\n",
       "  <tbody>\n",
       "    <tr>\n",
       "      <th>769</th>\n",
       "      <td>tt1449283</td>\n",
       "      <td>1.425344</td>\n",
       "      <td>30000000</td>\n",
       "      <td>14460000</td>\n",
       "      <td>Winnie the Pooh</td>\n",
       "      <td>Jim Cummings|Travis Oates|Jim Cummings|Bud Luc...</td>\n",
       "      <td>Stephen Anderson|Don Hall</td>\n",
       "      <td>Oh Pooh.</td>\n",
       "      <td>During an ordinary day in Hundred Acre Wood, W...</td>\n",
       "      <td>63</td>\n",
       "      <td>Animation|Family</td>\n",
       "      <td>Walt Disney Pictures|Walt Disney Animation Stu...</td>\n",
       "      <td>4/13/2011</td>\n",
       "      <td>174</td>\n",
       "      <td>6.8</td>\n",
       "      <td>2011</td>\n",
       "    </tr>\n",
       "  </tbody>\n",
       "</table>\n",
       "</div>"
      ],
      "text/plain": [
       "       imdb_id  popularity    budget   revenue   original_title  \\\n",
       "769  tt1449283    1.425344  30000000  14460000  Winnie the Pooh   \n",
       "\n",
       "                                                  cast  \\\n",
       "769  Jim Cummings|Travis Oates|Jim Cummings|Bud Luc...   \n",
       "\n",
       "                      director   tagline  \\\n",
       "769  Stephen Anderson|Don Hall  Oh Pooh.   \n",
       "\n",
       "                                              overview  runtime  \\\n",
       "769  During an ordinary day in Hundred Acre Wood, W...       63   \n",
       "\n",
       "               genres                               production_companies  \\\n",
       "769  Animation|Family  Walt Disney Pictures|Walt Disney Animation Stu...   \n",
       "\n",
       "    release_date  vote_count  vote_average  release_year  \n",
       "769    4/13/2011         174           6.8          2011  "
      ]
     },
     "execution_count": 23,
     "metadata": {},
     "output_type": "execute_result"
    }
   ],
   "source": [
    "data[data['runtime'] == data['runtime'].min()]"
   ]
  },
  {
   "cell_type": "code",
   "execution_count": 14,
   "metadata": {},
   "outputs": [],
   "source": [
    "answer_ls.append(3)"
   ]
  },
  {
   "cell_type": "markdown",
   "metadata": {},
   "source": [
    "# 4. Средняя длительность фильма?\n",
    "\n",
    "Варианты ответов:\n",
    "1. 115\n",
    "2. 110\n",
    "3. 105\n",
    "4. 120\n",
    "5. 100\n"
   ]
  },
  {
   "cell_type": "code",
   "execution_count": 26,
   "metadata": {},
   "outputs": [
    {
     "data": {
      "text/plain": [
       "109.65343915343915"
      ]
     },
     "execution_count": 26,
     "metadata": {},
     "output_type": "execute_result"
    }
   ],
   "source": [
    "data['runtime'].mean()"
   ]
  },
  {
   "cell_type": "code",
   "execution_count": 15,
   "metadata": {},
   "outputs": [],
   "source": [
    "answer_ls.append(2)"
   ]
  },
  {
   "cell_type": "markdown",
   "metadata": {},
   "source": [
    "# 5. Средняя длительность фильма по медиане?\n",
    "Варианты ответов:\n",
    "1. 106\n",
    "2. 112\n",
    "3. 101\n",
    "4. 120\n",
    "5. 115\n",
    "\n",
    "\n"
   ]
  },
  {
   "cell_type": "code",
   "execution_count": 31,
   "metadata": {},
   "outputs": [
    {
     "data": {
      "text/plain": [
       "106.5"
      ]
     },
     "execution_count": 31,
     "metadata": {},
     "output_type": "execute_result"
    }
   ],
   "source": [
    "data['runtime'].median()"
   ]
  },
  {
   "cell_type": "code",
   "execution_count": 16,
   "metadata": {},
   "outputs": [],
   "source": [
    "answer_ls.append(1)"
   ]
  },
  {
   "cell_type": "markdown",
   "metadata": {},
   "source": [
    "# 6. Какой самый прибыльный фильм?\n",
    "Варианты ответов:\n",
    "1. The Avengers\ttt0848228\n",
    "2. Minions\ttt2293640\n",
    "3. Star Wars: The Force Awakens\ttt2488496\n",
    "4. Furious 7\ttt2820852\n",
    "5. Avatar\ttt0499549"
   ]
  },
  {
   "cell_type": "code",
   "execution_count": 79,
   "metadata": {},
   "outputs": [
    {
     "data": {
      "text/html": [
       "<div>\n",
       "<style scoped>\n",
       "    .dataframe tbody tr th:only-of-type {\n",
       "        vertical-align: middle;\n",
       "    }\n",
       "\n",
       "    .dataframe tbody tr th {\n",
       "        vertical-align: top;\n",
       "    }\n",
       "\n",
       "    .dataframe thead th {\n",
       "        text-align: right;\n",
       "    }\n",
       "</style>\n",
       "<table border=\"1\" class=\"dataframe\">\n",
       "  <thead>\n",
       "    <tr style=\"text-align: right;\">\n",
       "      <th></th>\n",
       "      <th>imdb_id</th>\n",
       "      <th>popularity</th>\n",
       "      <th>budget</th>\n",
       "      <th>revenue</th>\n",
       "      <th>original_title</th>\n",
       "      <th>cast</th>\n",
       "      <th>director</th>\n",
       "      <th>tagline</th>\n",
       "      <th>overview</th>\n",
       "      <th>runtime</th>\n",
       "      <th>genres</th>\n",
       "      <th>production_companies</th>\n",
       "      <th>release_date</th>\n",
       "      <th>vote_count</th>\n",
       "      <th>vote_average</th>\n",
       "      <th>release_year</th>\n",
       "    </tr>\n",
       "  </thead>\n",
       "  <tbody>\n",
       "    <tr>\n",
       "      <th>239</th>\n",
       "      <td>tt0499549</td>\n",
       "      <td>9.432768</td>\n",
       "      <td>237000000</td>\n",
       "      <td>2781505847</td>\n",
       "      <td>Avatar</td>\n",
       "      <td>Sam Worthington|Zoe Saldana|Sigourney Weaver|S...</td>\n",
       "      <td>James Cameron</td>\n",
       "      <td>Enter the World of Pandora.</td>\n",
       "      <td>In the 22nd century, a paraplegic Marine is di...</td>\n",
       "      <td>162</td>\n",
       "      <td>Action|Adventure|Fantasy|Science Fiction</td>\n",
       "      <td>Ingenious Film Partners|Twentieth Century Fox ...</td>\n",
       "      <td>12/10/2009</td>\n",
       "      <td>8458</td>\n",
       "      <td>7.1</td>\n",
       "      <td>2009</td>\n",
       "    </tr>\n",
       "  </tbody>\n",
       "</table>\n",
       "</div>"
      ],
      "text/plain": [
       "       imdb_id  popularity     budget     revenue original_title  \\\n",
       "239  tt0499549    9.432768  237000000  2781505847         Avatar   \n",
       "\n",
       "                                                  cast       director  \\\n",
       "239  Sam Worthington|Zoe Saldana|Sigourney Weaver|S...  James Cameron   \n",
       "\n",
       "                         tagline  \\\n",
       "239  Enter the World of Pandora.   \n",
       "\n",
       "                                              overview  runtime  \\\n",
       "239  In the 22nd century, a paraplegic Marine is di...      162   \n",
       "\n",
       "                                       genres  \\\n",
       "239  Action|Adventure|Fantasy|Science Fiction   \n",
       "\n",
       "                                  production_companies release_date  \\\n",
       "239  Ingenious Film Partners|Twentieth Century Fox ...   12/10/2009   \n",
       "\n",
       "     vote_count  vote_average  release_year  \n",
       "239        8458           7.1          2009  "
      ]
     },
     "execution_count": 79,
     "metadata": {},
     "output_type": "execute_result"
    }
   ],
   "source": [
    "data[(data['revenue'] == data['revenue'].max()) > (data['budget'] == data['budget'].min())] "
   ]
  },
  {
   "cell_type": "code",
   "execution_count": 17,
   "metadata": {},
   "outputs": [],
   "source": [
    "answer_ls.append(5)"
   ]
  },
  {
   "cell_type": "markdown",
   "metadata": {},
   "source": [
    "# 7. Какой фильм самый убыточный?\n",
    "Варианты ответов:\n",
    "1. Supernova tt0134983\n",
    "2. The Warrior's Way tt1032751\n",
    "3. Flushed Away\ttt0424095\n",
    "4. The Adventures of Pluto Nash\ttt0180052\n",
    "5. The Lone Ranger\ttt1210819"
   ]
  },
  {
   "cell_type": "code",
   "execution_count": 93,
   "metadata": {},
   "outputs": [
    {
     "data": {
      "text/html": [
       "<div>\n",
       "<style scoped>\n",
       "    .dataframe tbody tr th:only-of-type {\n",
       "        vertical-align: middle;\n",
       "    }\n",
       "\n",
       "    .dataframe tbody tr th {\n",
       "        vertical-align: top;\n",
       "    }\n",
       "\n",
       "    .dataframe thead th {\n",
       "        text-align: right;\n",
       "    }\n",
       "</style>\n",
       "<table border=\"1\" class=\"dataframe\">\n",
       "  <thead>\n",
       "    <tr style=\"text-align: right;\">\n",
       "      <th></th>\n",
       "      <th>imdb_id</th>\n",
       "      <th>popularity</th>\n",
       "      <th>budget</th>\n",
       "      <th>revenue</th>\n",
       "      <th>original_title</th>\n",
       "      <th>cast</th>\n",
       "      <th>director</th>\n",
       "      <th>tagline</th>\n",
       "      <th>overview</th>\n",
       "      <th>runtime</th>\n",
       "      <th>genres</th>\n",
       "      <th>production_companies</th>\n",
       "      <th>release_date</th>\n",
       "      <th>vote_count</th>\n",
       "      <th>vote_average</th>\n",
       "      <th>release_year</th>\n",
       "    </tr>\n",
       "  </thead>\n",
       "  <tbody>\n",
       "    <tr>\n",
       "      <th>491</th>\n",
       "      <td>tt1032751</td>\n",
       "      <td>0.25054</td>\n",
       "      <td>425000000</td>\n",
       "      <td>11087569</td>\n",
       "      <td>The Warrior's Way</td>\n",
       "      <td>Kate Bosworth|Jang Dong-gun|Geoffrey Rush|Dann...</td>\n",
       "      <td>Sngmoo Lee</td>\n",
       "      <td>Assassin. Hero. Legend.</td>\n",
       "      <td>An Asian assassin (Dong-gun Jang) is forced to...</td>\n",
       "      <td>100</td>\n",
       "      <td>Adventure|Fantasy|Action|Western|Thriller</td>\n",
       "      <td>Boram Entertainment Inc.</td>\n",
       "      <td>12/2/2010</td>\n",
       "      <td>74</td>\n",
       "      <td>6.4</td>\n",
       "      <td>2010</td>\n",
       "    </tr>\n",
       "  </tbody>\n",
       "</table>\n",
       "</div>"
      ],
      "text/plain": [
       "       imdb_id  popularity     budget   revenue     original_title  \\\n",
       "491  tt1032751     0.25054  425000000  11087569  The Warrior's Way   \n",
       "\n",
       "                                                  cast    director  \\\n",
       "491  Kate Bosworth|Jang Dong-gun|Geoffrey Rush|Dann...  Sngmoo Lee   \n",
       "\n",
       "                     tagline  \\\n",
       "491  Assassin. Hero. Legend.   \n",
       "\n",
       "                                              overview  runtime  \\\n",
       "491  An Asian assassin (Dong-gun Jang) is forced to...      100   \n",
       "\n",
       "                                        genres      production_companies  \\\n",
       "491  Adventure|Fantasy|Action|Western|Thriller  Boram Entertainment Inc.   \n",
       "\n",
       "    release_date  vote_count  vote_average  release_year  \n",
       "491    12/2/2010          74           6.4          2010  "
      ]
     },
     "execution_count": 93,
     "metadata": {},
     "output_type": "execute_result"
    }
   ],
   "source": [
    "data[(data['revenue'] == data['revenue'].max()) < (data['budget'] == data['budget'].max())] "
   ]
  },
  {
   "cell_type": "code",
   "execution_count": 18,
   "metadata": {},
   "outputs": [],
   "source": [
    "answer_ls.append(2)"
   ]
  },
  {
   "cell_type": "markdown",
   "metadata": {},
   "source": [
    "# 8. Сколько всего фильмов в прибыли?\n",
    "Варианты ответов:\n",
    "1. 1478\n",
    "2. 1520\n",
    "3. 1241\n",
    "4. 1135\n",
    "5. 1398\n"
   ]
  },
  {
   "cell_type": "code",
   "execution_count": 65,
   "metadata": {},
   "outputs": [
    {
     "data": {
      "text/html": [
       "<div>\n",
       "<style scoped>\n",
       "    .dataframe tbody tr th:only-of-type {\n",
       "        vertical-align: middle;\n",
       "    }\n",
       "\n",
       "    .dataframe tbody tr th {\n",
       "        vertical-align: top;\n",
       "    }\n",
       "\n",
       "    .dataframe thead th {\n",
       "        text-align: right;\n",
       "    }\n",
       "</style>\n",
       "<table border=\"1\" class=\"dataframe\">\n",
       "  <thead>\n",
       "    <tr style=\"text-align: right;\">\n",
       "      <th></th>\n",
       "      <th>imdb_id</th>\n",
       "      <th>popularity</th>\n",
       "      <th>budget</th>\n",
       "      <th>revenue</th>\n",
       "      <th>original_title</th>\n",
       "      <th>cast</th>\n",
       "      <th>director</th>\n",
       "      <th>tagline</th>\n",
       "      <th>overview</th>\n",
       "      <th>runtime</th>\n",
       "      <th>genres</th>\n",
       "      <th>production_companies</th>\n",
       "      <th>release_date</th>\n",
       "      <th>vote_count</th>\n",
       "      <th>vote_average</th>\n",
       "      <th>release_year</th>\n",
       "    </tr>\n",
       "  </thead>\n",
       "  <tbody>\n",
       "    <tr>\n",
       "      <th>0</th>\n",
       "      <td>tt0369610</td>\n",
       "      <td>32.985763</td>\n",
       "      <td>150000000</td>\n",
       "      <td>1513528810</td>\n",
       "      <td>Jurassic World</td>\n",
       "      <td>Chris Pratt|Bryce Dallas Howard|Irrfan Khan|Vi...</td>\n",
       "      <td>Colin Trevorrow</td>\n",
       "      <td>The park is open.</td>\n",
       "      <td>Twenty-two years after the events of Jurassic ...</td>\n",
       "      <td>124</td>\n",
       "      <td>Action|Adventure|Science Fiction|Thriller</td>\n",
       "      <td>Universal Studios|Amblin Entertainment|Legenda...</td>\n",
       "      <td>6/9/2015</td>\n",
       "      <td>5562</td>\n",
       "      <td>6.5</td>\n",
       "      <td>2015</td>\n",
       "    </tr>\n",
       "    <tr>\n",
       "      <th>1</th>\n",
       "      <td>tt1392190</td>\n",
       "      <td>28.419936</td>\n",
       "      <td>150000000</td>\n",
       "      <td>378436354</td>\n",
       "      <td>Mad Max: Fury Road</td>\n",
       "      <td>Tom Hardy|Charlize Theron|Hugh Keays-Byrne|Nic...</td>\n",
       "      <td>George Miller</td>\n",
       "      <td>What a Lovely Day.</td>\n",
       "      <td>An apocalyptic story set in the furthest reach...</td>\n",
       "      <td>120</td>\n",
       "      <td>Action|Adventure|Science Fiction|Thriller</td>\n",
       "      <td>Village Roadshow Pictures|Kennedy Miller Produ...</td>\n",
       "      <td>5/13/2015</td>\n",
       "      <td>6185</td>\n",
       "      <td>7.1</td>\n",
       "      <td>2015</td>\n",
       "    </tr>\n",
       "    <tr>\n",
       "      <th>2</th>\n",
       "      <td>tt2908446</td>\n",
       "      <td>13.112507</td>\n",
       "      <td>110000000</td>\n",
       "      <td>295238201</td>\n",
       "      <td>Insurgent</td>\n",
       "      <td>Shailene Woodley|Theo James|Kate Winslet|Ansel...</td>\n",
       "      <td>Robert Schwentke</td>\n",
       "      <td>One Choice Can Destroy You</td>\n",
       "      <td>Beatrice Prior must confront her inner demons ...</td>\n",
       "      <td>119</td>\n",
       "      <td>Adventure|Science Fiction|Thriller</td>\n",
       "      <td>Summit Entertainment|Mandeville Films|Red Wago...</td>\n",
       "      <td>3/18/2015</td>\n",
       "      <td>2480</td>\n",
       "      <td>6.3</td>\n",
       "      <td>2015</td>\n",
       "    </tr>\n",
       "    <tr>\n",
       "      <th>3</th>\n",
       "      <td>tt2488496</td>\n",
       "      <td>11.173104</td>\n",
       "      <td>200000000</td>\n",
       "      <td>2068178225</td>\n",
       "      <td>Star Wars: The Force Awakens</td>\n",
       "      <td>Harrison Ford|Mark Hamill|Carrie Fisher|Adam D...</td>\n",
       "      <td>J.J. Abrams</td>\n",
       "      <td>Every generation has a story.</td>\n",
       "      <td>Thirty years after defeating the Galactic Empi...</td>\n",
       "      <td>136</td>\n",
       "      <td>Action|Adventure|Science Fiction|Fantasy</td>\n",
       "      <td>Lucasfilm|Truenorth Productions|Bad Robot</td>\n",
       "      <td>12/15/2015</td>\n",
       "      <td>5292</td>\n",
       "      <td>7.5</td>\n",
       "      <td>2015</td>\n",
       "    </tr>\n",
       "    <tr>\n",
       "      <th>4</th>\n",
       "      <td>tt2820852</td>\n",
       "      <td>9.335014</td>\n",
       "      <td>190000000</td>\n",
       "      <td>1506249360</td>\n",
       "      <td>Furious 7</td>\n",
       "      <td>Vin Diesel|Paul Walker|Jason Statham|Michelle ...</td>\n",
       "      <td>James Wan</td>\n",
       "      <td>Vengeance Hits Home</td>\n",
       "      <td>Deckard Shaw seeks revenge against Dominic Tor...</td>\n",
       "      <td>137</td>\n",
       "      <td>Action|Crime|Thriller</td>\n",
       "      <td>Universal Pictures|Original Film|Media Rights ...</td>\n",
       "      <td>4/1/2015</td>\n",
       "      <td>2947</td>\n",
       "      <td>7.3</td>\n",
       "      <td>2015</td>\n",
       "    </tr>\n",
       "    <tr>\n",
       "      <th>...</th>\n",
       "      <td>...</td>\n",
       "      <td>...</td>\n",
       "      <td>...</td>\n",
       "      <td>...</td>\n",
       "      <td>...</td>\n",
       "      <td>...</td>\n",
       "      <td>...</td>\n",
       "      <td>...</td>\n",
       "      <td>...</td>\n",
       "      <td>...</td>\n",
       "      <td>...</td>\n",
       "      <td>...</td>\n",
       "      <td>...</td>\n",
       "      <td>...</td>\n",
       "      <td>...</td>\n",
       "      <td>...</td>\n",
       "    </tr>\n",
       "    <tr>\n",
       "      <th>1872</th>\n",
       "      <td>tt0171433</td>\n",
       "      <td>0.623706</td>\n",
       "      <td>30000000</td>\n",
       "      <td>37036004</td>\n",
       "      <td>Keeping the Faith</td>\n",
       "      <td>Ben Stiller|Edward Norton|Jenna Elfman|Anne Ba...</td>\n",
       "      <td>Edward Norton</td>\n",
       "      <td>If you have to believe in something, you may a...</td>\n",
       "      <td>Best friends since they were kids, Rabbi Jacob...</td>\n",
       "      <td>127</td>\n",
       "      <td>Comedy</td>\n",
       "      <td>Spyglass Entertainment|Touchstone Pictures|Tri...</td>\n",
       "      <td>4/14/2000</td>\n",
       "      <td>79</td>\n",
       "      <td>5.7</td>\n",
       "      <td>2000</td>\n",
       "    </tr>\n",
       "    <tr>\n",
       "      <th>1876</th>\n",
       "      <td>tt0219854</td>\n",
       "      <td>0.349034</td>\n",
       "      <td>65000000</td>\n",
       "      <td>69700000</td>\n",
       "      <td>The Kid</td>\n",
       "      <td>Bruce Willis|Spencer Breslin|Emily Mortimer|Li...</td>\n",
       "      <td>Jon Turteltaub</td>\n",
       "      <td>Nobody ever grows up quite like they imagined.</td>\n",
       "      <td>Powerful businessman Russ Duritz is self-absor...</td>\n",
       "      <td>104</td>\n",
       "      <td>Fantasy|Comedy|Family</td>\n",
       "      <td>Walt Disney Pictures</td>\n",
       "      <td>7/7/2000</td>\n",
       "      <td>141</td>\n",
       "      <td>5.9</td>\n",
       "      <td>2000</td>\n",
       "    </tr>\n",
       "    <tr>\n",
       "      <th>1878</th>\n",
       "      <td>tt0199725</td>\n",
       "      <td>0.324003</td>\n",
       "      <td>20000000</td>\n",
       "      <td>27728118</td>\n",
       "      <td>Love &amp; Basketball</td>\n",
       "      <td>Chris Warren, Jr.|Kyla Pratt|Sanaa Lathan|Omar...</td>\n",
       "      <td>Gina Prince-Bythewood</td>\n",
       "      <td>All's fair in love and basketball.</td>\n",
       "      <td>A young African-American couple navigates the ...</td>\n",
       "      <td>124</td>\n",
       "      <td>Action|Comedy|Drama|Romance</td>\n",
       "      <td>40 Acres &amp; A Mule Filmworks</td>\n",
       "      <td>4/21/2000</td>\n",
       "      <td>54</td>\n",
       "      <td>7.3</td>\n",
       "      <td>2000</td>\n",
       "    </tr>\n",
       "    <tr>\n",
       "      <th>1884</th>\n",
       "      <td>tt0122459</td>\n",
       "      <td>0.249219</td>\n",
       "      <td>24000000</td>\n",
       "      <td>36609995</td>\n",
       "      <td>Return to Me</td>\n",
       "      <td>David Duchovny|Minnie Driver|Carroll O'Connor|...</td>\n",
       "      <td>Bonnie Hunt</td>\n",
       "      <td>A comedy straight from the heart</td>\n",
       "      <td>It took a lot of cajoling to get Bob (Duchovny...</td>\n",
       "      <td>115</td>\n",
       "      <td>Romance|Comedy|Drama</td>\n",
       "      <td>Metro-Goldwyn-Mayer (MGM)|JLT Productions</td>\n",
       "      <td>4/7/2000</td>\n",
       "      <td>32</td>\n",
       "      <td>5.5</td>\n",
       "      <td>2000</td>\n",
       "    </tr>\n",
       "    <tr>\n",
       "      <th>1885</th>\n",
       "      <td>tt0120903</td>\n",
       "      <td>0.182246</td>\n",
       "      <td>75000000</td>\n",
       "      <td>157299717</td>\n",
       "      <td>X-Men</td>\n",
       "      <td>Patrick Stewart|Hugh Jackman|Ian McKellen|Hall...</td>\n",
       "      <td>Bryan Singer</td>\n",
       "      <td>Evolution Begins</td>\n",
       "      <td>Two mutants, Rogue and Wolverine, come to a pr...</td>\n",
       "      <td>104</td>\n",
       "      <td>Adventure|Action|Science Fiction</td>\n",
       "      <td>Twentieth Century Fox Film Corporation|Donners...</td>\n",
       "      <td>7/13/2000</td>\n",
       "      <td>2766</td>\n",
       "      <td>6.6</td>\n",
       "      <td>2000</td>\n",
       "    </tr>\n",
       "  </tbody>\n",
       "</table>\n",
       "<p>1478 rows × 16 columns</p>\n",
       "</div>"
      ],
      "text/plain": [
       "        imdb_id  popularity     budget     revenue  \\\n",
       "0     tt0369610   32.985763  150000000  1513528810   \n",
       "1     tt1392190   28.419936  150000000   378436354   \n",
       "2     tt2908446   13.112507  110000000   295238201   \n",
       "3     tt2488496   11.173104  200000000  2068178225   \n",
       "4     tt2820852    9.335014  190000000  1506249360   \n",
       "...         ...         ...        ...         ...   \n",
       "1872  tt0171433    0.623706   30000000    37036004   \n",
       "1876  tt0219854    0.349034   65000000    69700000   \n",
       "1878  tt0199725    0.324003   20000000    27728118   \n",
       "1884  tt0122459    0.249219   24000000    36609995   \n",
       "1885  tt0120903    0.182246   75000000   157299717   \n",
       "\n",
       "                    original_title  \\\n",
       "0                   Jurassic World   \n",
       "1               Mad Max: Fury Road   \n",
       "2                        Insurgent   \n",
       "3     Star Wars: The Force Awakens   \n",
       "4                        Furious 7   \n",
       "...                            ...   \n",
       "1872             Keeping the Faith   \n",
       "1876                       The Kid   \n",
       "1878             Love & Basketball   \n",
       "1884                  Return to Me   \n",
       "1885                         X-Men   \n",
       "\n",
       "                                                   cast  \\\n",
       "0     Chris Pratt|Bryce Dallas Howard|Irrfan Khan|Vi...   \n",
       "1     Tom Hardy|Charlize Theron|Hugh Keays-Byrne|Nic...   \n",
       "2     Shailene Woodley|Theo James|Kate Winslet|Ansel...   \n",
       "3     Harrison Ford|Mark Hamill|Carrie Fisher|Adam D...   \n",
       "4     Vin Diesel|Paul Walker|Jason Statham|Michelle ...   \n",
       "...                                                 ...   \n",
       "1872  Ben Stiller|Edward Norton|Jenna Elfman|Anne Ba...   \n",
       "1876  Bruce Willis|Spencer Breslin|Emily Mortimer|Li...   \n",
       "1878  Chris Warren, Jr.|Kyla Pratt|Sanaa Lathan|Omar...   \n",
       "1884  David Duchovny|Minnie Driver|Carroll O'Connor|...   \n",
       "1885  Patrick Stewart|Hugh Jackman|Ian McKellen|Hall...   \n",
       "\n",
       "                   director  \\\n",
       "0           Colin Trevorrow   \n",
       "1             George Miller   \n",
       "2          Robert Schwentke   \n",
       "3               J.J. Abrams   \n",
       "4                 James Wan   \n",
       "...                     ...   \n",
       "1872          Edward Norton   \n",
       "1876         Jon Turteltaub   \n",
       "1878  Gina Prince-Bythewood   \n",
       "1884            Bonnie Hunt   \n",
       "1885           Bryan Singer   \n",
       "\n",
       "                                                tagline  \\\n",
       "0                                     The park is open.   \n",
       "1                                    What a Lovely Day.   \n",
       "2                            One Choice Can Destroy You   \n",
       "3                         Every generation has a story.   \n",
       "4                                   Vengeance Hits Home   \n",
       "...                                                 ...   \n",
       "1872  If you have to believe in something, you may a...   \n",
       "1876     Nobody ever grows up quite like they imagined.   \n",
       "1878                 All's fair in love and basketball.   \n",
       "1884                   A comedy straight from the heart   \n",
       "1885                                   Evolution Begins   \n",
       "\n",
       "                                               overview  runtime  \\\n",
       "0     Twenty-two years after the events of Jurassic ...      124   \n",
       "1     An apocalyptic story set in the furthest reach...      120   \n",
       "2     Beatrice Prior must confront her inner demons ...      119   \n",
       "3     Thirty years after defeating the Galactic Empi...      136   \n",
       "4     Deckard Shaw seeks revenge against Dominic Tor...      137   \n",
       "...                                                 ...      ...   \n",
       "1872  Best friends since they were kids, Rabbi Jacob...      127   \n",
       "1876  Powerful businessman Russ Duritz is self-absor...      104   \n",
       "1878  A young African-American couple navigates the ...      124   \n",
       "1884  It took a lot of cajoling to get Bob (Duchovny...      115   \n",
       "1885  Two mutants, Rogue and Wolverine, come to a pr...      104   \n",
       "\n",
       "                                         genres  \\\n",
       "0     Action|Adventure|Science Fiction|Thriller   \n",
       "1     Action|Adventure|Science Fiction|Thriller   \n",
       "2            Adventure|Science Fiction|Thriller   \n",
       "3      Action|Adventure|Science Fiction|Fantasy   \n",
       "4                         Action|Crime|Thriller   \n",
       "...                                         ...   \n",
       "1872                                     Comedy   \n",
       "1876                      Fantasy|Comedy|Family   \n",
       "1878                Action|Comedy|Drama|Romance   \n",
       "1884                       Romance|Comedy|Drama   \n",
       "1885           Adventure|Action|Science Fiction   \n",
       "\n",
       "                                   production_companies release_date  \\\n",
       "0     Universal Studios|Amblin Entertainment|Legenda...     6/9/2015   \n",
       "1     Village Roadshow Pictures|Kennedy Miller Produ...    5/13/2015   \n",
       "2     Summit Entertainment|Mandeville Films|Red Wago...    3/18/2015   \n",
       "3             Lucasfilm|Truenorth Productions|Bad Robot   12/15/2015   \n",
       "4     Universal Pictures|Original Film|Media Rights ...     4/1/2015   \n",
       "...                                                 ...          ...   \n",
       "1872  Spyglass Entertainment|Touchstone Pictures|Tri...    4/14/2000   \n",
       "1876                               Walt Disney Pictures     7/7/2000   \n",
       "1878                        40 Acres & A Mule Filmworks    4/21/2000   \n",
       "1884          Metro-Goldwyn-Mayer (MGM)|JLT Productions     4/7/2000   \n",
       "1885  Twentieth Century Fox Film Corporation|Donners...    7/13/2000   \n",
       "\n",
       "      vote_count  vote_average  release_year  \n",
       "0           5562           6.5          2015  \n",
       "1           6185           7.1          2015  \n",
       "2           2480           6.3          2015  \n",
       "3           5292           7.5          2015  \n",
       "4           2947           7.3          2015  \n",
       "...          ...           ...           ...  \n",
       "1872          79           5.7          2000  \n",
       "1876         141           5.9          2000  \n",
       "1878          54           7.3          2000  \n",
       "1884          32           5.5          2000  \n",
       "1885        2766           6.6          2000  \n",
       "\n",
       "[1478 rows x 16 columns]"
      ]
     },
     "execution_count": 65,
     "metadata": {},
     "output_type": "execute_result"
    }
   ],
   "source": [
    "data[data['budget'] < data['revenue']]"
   ]
  },
  {
   "cell_type": "code",
   "execution_count": 19,
   "metadata": {},
   "outputs": [],
   "source": [
    "answer_ls.append(1)"
   ]
  },
  {
   "cell_type": "markdown",
   "metadata": {},
   "source": [
    "# 9. Самый прибыльный фильм в 2008 году?\n",
    "Варианты ответов:\n",
    "1. Madagascar: Escape 2 Africa\ttt0479952\n",
    "2. Iron Man\ttt0371746\n",
    "3. Kung Fu Panda\ttt0441773\n",
    "4. The Dark Knight\ttt0468569\n",
    "5. Mamma Mia!\ttt0795421"
   ]
  },
  {
   "cell_type": "code",
   "execution_count": 5,
   "metadata": {},
   "outputs": [
    {
     "data": {
      "text/html": [
       "<div>\n",
       "<style scoped>\n",
       "    .dataframe tbody tr th:only-of-type {\n",
       "        vertical-align: middle;\n",
       "    }\n",
       "\n",
       "    .dataframe tbody tr th {\n",
       "        vertical-align: top;\n",
       "    }\n",
       "\n",
       "    .dataframe thead th {\n",
       "        text-align: right;\n",
       "    }\n",
       "</style>\n",
       "<table border=\"1\" class=\"dataframe\">\n",
       "  <thead>\n",
       "    <tr style=\"text-align: right;\">\n",
       "      <th></th>\n",
       "      <th>imdb_id</th>\n",
       "      <th>popularity</th>\n",
       "      <th>budget</th>\n",
       "      <th>revenue</th>\n",
       "      <th>original_title</th>\n",
       "      <th>cast</th>\n",
       "      <th>director</th>\n",
       "      <th>tagline</th>\n",
       "      <th>overview</th>\n",
       "      <th>runtime</th>\n",
       "      <th>genres</th>\n",
       "      <th>production_companies</th>\n",
       "      <th>release_date</th>\n",
       "      <th>vote_count</th>\n",
       "      <th>vote_average</th>\n",
       "      <th>release_year</th>\n",
       "      <th>actor_pair_counter</th>\n",
       "      <th>profit</th>\n",
       "    </tr>\n",
       "  </thead>\n",
       "  <tbody>\n",
       "    <tr>\n",
       "      <th>637</th>\n",
       "      <td>tt0455824</td>\n",
       "      <td>1.468543</td>\n",
       "      <td>130000000</td>\n",
       "      <td>49554002</td>\n",
       "      <td>Australia</td>\n",
       "      <td>Nicole Kidman|Hugh Jackman|Essie Davis|David W...</td>\n",
       "      <td>Baz Luhrmann</td>\n",
       "      <td>Welcome to Australia!</td>\n",
       "      <td>Set in northern Australia before World War II,...</td>\n",
       "      <td>165</td>\n",
       "      <td>Drama</td>\n",
       "      <td>Bazmark Films|Ingenious Film Partners|Twentiet...</td>\n",
       "      <td>11/18/2008</td>\n",
       "      <td>411</td>\n",
       "      <td>6.3</td>\n",
       "      <td>2008</td>\n",
       "      <td>{('Nicole Kidman', 'Hugh Jackman'): 1, ('Nicol...</td>\n",
       "      <td>-80445998</td>\n",
       "    </tr>\n",
       "    <tr>\n",
       "      <th>680</th>\n",
       "      <td>tt0462465</td>\n",
       "      <td>0.749838</td>\n",
       "      <td>50000000</td>\n",
       "      <td>7033683</td>\n",
       "      <td>Outlander</td>\n",
       "      <td>Jim Caviezel|Sophia Myles|Jack Huston|Ron Perl...</td>\n",
       "      <td>Howard McCain</td>\n",
       "      <td>It destroyed his world. He won't let it destro...</td>\n",
       "      <td>During the reign of the Vikings, a man from an...</td>\n",
       "      <td>115</td>\n",
       "      <td>Fantasy|Action|Science Fiction</td>\n",
       "      <td>Ascendant Pictures|Rising Star|VIP Medienfonds...</td>\n",
       "      <td>4/24/2008</td>\n",
       "      <td>167</td>\n",
       "      <td>6.0</td>\n",
       "      <td>2008</td>\n",
       "      <td>{('Jim Caviezel', 'Sophia Myles'): 1, ('Jim Ca...</td>\n",
       "      <td>-42966317</td>\n",
       "    </tr>\n",
       "    <tr>\n",
       "      <th>683</th>\n",
       "      <td>tt0970411</td>\n",
       "      <td>0.721663</td>\n",
       "      <td>55000000</td>\n",
       "      <td>17869048</td>\n",
       "      <td>City of Ember</td>\n",
       "      <td>Saoirse Ronan|Harry Treadaway|Mary Kay Place|B...</td>\n",
       "      <td>Gil Kenan</td>\n",
       "      <td>Escape is the only option</td>\n",
       "      <td>For generations, the people of the City of Emb...</td>\n",
       "      <td>90</td>\n",
       "      <td>Adventure|Family|Fantasy</td>\n",
       "      <td>Playtone|Walden Media</td>\n",
       "      <td>10/7/2008</td>\n",
       "      <td>358</td>\n",
       "      <td>6.1</td>\n",
       "      <td>2008</td>\n",
       "      <td>{('Saoirse Ronan', 'Harry Treadaway'): 1, ('Sa...</td>\n",
       "      <td>-37130952</td>\n",
       "    </tr>\n",
       "    <tr>\n",
       "      <th>706</th>\n",
       "      <td>tt0469903</td>\n",
       "      <td>0.450911</td>\n",
       "      <td>40000000</td>\n",
       "      <td>9793496</td>\n",
       "      <td>The Express</td>\n",
       "      <td>Rob Brown|Dennis Quaid|Darrin Henson|Charles S...</td>\n",
       "      <td>Gary Fleder</td>\n",
       "      <td>He changed our country... one yard at a time.</td>\n",
       "      <td>Based on the incredible true story, The Expres...</td>\n",
       "      <td>130</td>\n",
       "      <td>Drama</td>\n",
       "      <td>Davis Entertainment|Relativity Media|IDEA Film...</td>\n",
       "      <td>10/10/2008</td>\n",
       "      <td>39</td>\n",
       "      <td>7.1</td>\n",
       "      <td>2008</td>\n",
       "      <td>{('Rob Brown', 'Dennis Quaid'): 1, ('Rob Brown...</td>\n",
       "      <td>-30206504</td>\n",
       "    </tr>\n",
       "    <tr>\n",
       "      <th>669</th>\n",
       "      <td>tt0811080</td>\n",
       "      <td>0.879116</td>\n",
       "      <td>120000000</td>\n",
       "      <td>93945766</td>\n",
       "      <td>Speed Racer</td>\n",
       "      <td>Emile Hirsch|Christina Ricci|Matthew Fox|Susan...</td>\n",
       "      <td>Lana Wachowski|Lilly Wachowski</td>\n",
       "      <td>Go!</td>\n",
       "      <td>Speed Racer is the tale of a young and brillia...</td>\n",
       "      <td>135</td>\n",
       "      <td>Family|Action|Science Fiction</td>\n",
       "      <td>Village Roadshow Pictures|Studio Babelsberg|An...</td>\n",
       "      <td>5/9/2008</td>\n",
       "      <td>194</td>\n",
       "      <td>5.6</td>\n",
       "      <td>2008</td>\n",
       "      <td>{('Emile Hirsch', 'Christina Ricci'): 1, ('Emi...</td>\n",
       "      <td>-26054234</td>\n",
       "    </tr>\n",
       "    <tr>\n",
       "      <th>...</th>\n",
       "      <td>...</td>\n",
       "      <td>...</td>\n",
       "      <td>...</td>\n",
       "      <td>...</td>\n",
       "      <td>...</td>\n",
       "      <td>...</td>\n",
       "      <td>...</td>\n",
       "      <td>...</td>\n",
       "      <td>...</td>\n",
       "      <td>...</td>\n",
       "      <td>...</td>\n",
       "      <td>...</td>\n",
       "      <td>...</td>\n",
       "      <td>...</td>\n",
       "      <td>...</td>\n",
       "      <td>...</td>\n",
       "      <td>...</td>\n",
       "      <td>...</td>\n",
       "    </tr>\n",
       "    <tr>\n",
       "      <th>622</th>\n",
       "      <td>tt0448157</td>\n",
       "      <td>1.800286</td>\n",
       "      <td>150000000</td>\n",
       "      <td>624029371</td>\n",
       "      <td>Hancock</td>\n",
       "      <td>Will Smith|Charlize Theron|Jason Bateman|Jae H...</td>\n",
       "      <td>Peter Berg</td>\n",
       "      <td>Bad Behavior. Bad Attitude. Real Hero.</td>\n",
       "      <td>Hancock is a down-and-out superhero who's forc...</td>\n",
       "      <td>92</td>\n",
       "      <td>Fantasy|Action</td>\n",
       "      <td>Columbia Pictures|Weed Road Pictures|Forward P...</td>\n",
       "      <td>7/1/2008</td>\n",
       "      <td>1764</td>\n",
       "      <td>6.0</td>\n",
       "      <td>2008</td>\n",
       "      <td>{('Will Smith', 'Charlize Theron'): 1, ('Will ...</td>\n",
       "      <td>474029371</td>\n",
       "    </tr>\n",
       "    <tr>\n",
       "      <th>607</th>\n",
       "      <td>tt0441773</td>\n",
       "      <td>3.036644</td>\n",
       "      <td>130000000</td>\n",
       "      <td>631744560</td>\n",
       "      <td>Kung Fu Panda</td>\n",
       "      <td>Jack Black|Dustin Hoffman|Angelina Jolie|Jacki...</td>\n",
       "      <td>Mark Osborne|John Stevenson</td>\n",
       "      <td>Prepare for awesomeness.</td>\n",
       "      <td>When the Valley of Peace is threatened, lazy P...</td>\n",
       "      <td>90</td>\n",
       "      <td>Animation|Family</td>\n",
       "      <td>DreamWorks Animation</td>\n",
       "      <td>6/4/2008</td>\n",
       "      <td>1938</td>\n",
       "      <td>6.8</td>\n",
       "      <td>2008</td>\n",
       "      <td>{('Jack Black', 'Dustin Hoffman'): 1, ('Jack B...</td>\n",
       "      <td>501744560</td>\n",
       "    </tr>\n",
       "    <tr>\n",
       "      <th>608</th>\n",
       "      <td>tt0795421</td>\n",
       "      <td>2.543535</td>\n",
       "      <td>52000000</td>\n",
       "      <td>609841637</td>\n",
       "      <td>Mamma Mia!</td>\n",
       "      <td>Meryl Streep|Pierce Brosnan|Amanda Seyfried|Co...</td>\n",
       "      <td>Phyllida Lloyd</td>\n",
       "      <td>Take a trip down the aisle you'll never forget</td>\n",
       "      <td>Set on an idyllic Greek island, the plot serve...</td>\n",
       "      <td>108</td>\n",
       "      <td>Comedy|Romance</td>\n",
       "      <td>Universal Pictures|Internationale Filmprodukti...</td>\n",
       "      <td>6/30/2008</td>\n",
       "      <td>805</td>\n",
       "      <td>6.2</td>\n",
       "      <td>2008</td>\n",
       "      <td>{('Meryl Streep', 'Pierce Brosnan'): 1, ('Mery...</td>\n",
       "      <td>557841637</td>\n",
       "    </tr>\n",
       "    <tr>\n",
       "      <th>604</th>\n",
       "      <td>tt0367882</td>\n",
       "      <td>3.161670</td>\n",
       "      <td>185000000</td>\n",
       "      <td>786636033</td>\n",
       "      <td>Indiana Jones and the Kingdom of the Crystal S...</td>\n",
       "      <td>Harrison Ford|Cate Blanchett|Shia LaBeouf|Ray ...</td>\n",
       "      <td>Steven Spielberg</td>\n",
       "      <td>The adventure continues . . .</td>\n",
       "      <td>Set during the Cold War, the Soviets â€“ led b...</td>\n",
       "      <td>122</td>\n",
       "      <td>Adventure|Action</td>\n",
       "      <td>Lucasfilm|Paramount Pictures</td>\n",
       "      <td>5/21/2008</td>\n",
       "      <td>1537</td>\n",
       "      <td>5.6</td>\n",
       "      <td>2008</td>\n",
       "      <td>{('Harrison Ford', 'Cate Blanchett'): 1, ('Har...</td>\n",
       "      <td>601636033</td>\n",
       "    </tr>\n",
       "    <tr>\n",
       "      <th>600</th>\n",
       "      <td>tt0468569</td>\n",
       "      <td>8.466668</td>\n",
       "      <td>185000000</td>\n",
       "      <td>1001921825</td>\n",
       "      <td>The Dark Knight</td>\n",
       "      <td>Christian Bale|Michael Caine|Heath Ledger|Aaro...</td>\n",
       "      <td>Christopher Nolan</td>\n",
       "      <td>Why So Serious?</td>\n",
       "      <td>Batman raises the stakes in his war on crime. ...</td>\n",
       "      <td>152</td>\n",
       "      <td>Drama|Action|Crime|Thriller</td>\n",
       "      <td>DC Comics|Legendary Pictures|Warner Bros.|Syncopy</td>\n",
       "      <td>7/16/2008</td>\n",
       "      <td>8432</td>\n",
       "      <td>8.1</td>\n",
       "      <td>2008</td>\n",
       "      <td>{('Christian Bale', 'Michael Caine'): 1, ('Chr...</td>\n",
       "      <td>816921825</td>\n",
       "    </tr>\n",
       "  </tbody>\n",
       "</table>\n",
       "<p>121 rows × 18 columns</p>\n",
       "</div>"
      ],
      "text/plain": [
       "       imdb_id  popularity     budget     revenue  \\\n",
       "637  tt0455824    1.468543  130000000    49554002   \n",
       "680  tt0462465    0.749838   50000000     7033683   \n",
       "683  tt0970411    0.721663   55000000    17869048   \n",
       "706  tt0469903    0.450911   40000000     9793496   \n",
       "669  tt0811080    0.879116  120000000    93945766   \n",
       "..         ...         ...        ...         ...   \n",
       "622  tt0448157    1.800286  150000000   624029371   \n",
       "607  tt0441773    3.036644  130000000   631744560   \n",
       "608  tt0795421    2.543535   52000000   609841637   \n",
       "604  tt0367882    3.161670  185000000   786636033   \n",
       "600  tt0468569    8.466668  185000000  1001921825   \n",
       "\n",
       "                                        original_title  \\\n",
       "637                                          Australia   \n",
       "680                                          Outlander   \n",
       "683                                      City of Ember   \n",
       "706                                        The Express   \n",
       "669                                        Speed Racer   \n",
       "..                                                 ...   \n",
       "622                                            Hancock   \n",
       "607                                      Kung Fu Panda   \n",
       "608                                         Mamma Mia!   \n",
       "604  Indiana Jones and the Kingdom of the Crystal S...   \n",
       "600                                    The Dark Knight   \n",
       "\n",
       "                                                  cast  \\\n",
       "637  Nicole Kidman|Hugh Jackman|Essie Davis|David W...   \n",
       "680  Jim Caviezel|Sophia Myles|Jack Huston|Ron Perl...   \n",
       "683  Saoirse Ronan|Harry Treadaway|Mary Kay Place|B...   \n",
       "706  Rob Brown|Dennis Quaid|Darrin Henson|Charles S...   \n",
       "669  Emile Hirsch|Christina Ricci|Matthew Fox|Susan...   \n",
       "..                                                 ...   \n",
       "622  Will Smith|Charlize Theron|Jason Bateman|Jae H...   \n",
       "607  Jack Black|Dustin Hoffman|Angelina Jolie|Jacki...   \n",
       "608  Meryl Streep|Pierce Brosnan|Amanda Seyfried|Co...   \n",
       "604  Harrison Ford|Cate Blanchett|Shia LaBeouf|Ray ...   \n",
       "600  Christian Bale|Michael Caine|Heath Ledger|Aaro...   \n",
       "\n",
       "                           director  \\\n",
       "637                    Baz Luhrmann   \n",
       "680                   Howard McCain   \n",
       "683                       Gil Kenan   \n",
       "706                     Gary Fleder   \n",
       "669  Lana Wachowski|Lilly Wachowski   \n",
       "..                              ...   \n",
       "622                      Peter Berg   \n",
       "607     Mark Osborne|John Stevenson   \n",
       "608                  Phyllida Lloyd   \n",
       "604                Steven Spielberg   \n",
       "600               Christopher Nolan   \n",
       "\n",
       "                                               tagline  \\\n",
       "637                              Welcome to Australia!   \n",
       "680  It destroyed his world. He won't let it destro...   \n",
       "683                          Escape is the only option   \n",
       "706      He changed our country... one yard at a time.   \n",
       "669                                                Go!   \n",
       "..                                                 ...   \n",
       "622             Bad Behavior. Bad Attitude. Real Hero.   \n",
       "607                           Prepare for awesomeness.   \n",
       "608     Take a trip down the aisle you'll never forget   \n",
       "604                      The adventure continues . . .   \n",
       "600                                    Why So Serious?   \n",
       "\n",
       "                                              overview  runtime  \\\n",
       "637  Set in northern Australia before World War II,...      165   \n",
       "680  During the reign of the Vikings, a man from an...      115   \n",
       "683  For generations, the people of the City of Emb...       90   \n",
       "706  Based on the incredible true story, The Expres...      130   \n",
       "669  Speed Racer is the tale of a young and brillia...      135   \n",
       "..                                                 ...      ...   \n",
       "622  Hancock is a down-and-out superhero who's forc...       92   \n",
       "607  When the Valley of Peace is threatened, lazy P...       90   \n",
       "608  Set on an idyllic Greek island, the plot serve...      108   \n",
       "604  Set during the Cold War, the Soviets â€“ led b...      122   \n",
       "600  Batman raises the stakes in his war on crime. ...      152   \n",
       "\n",
       "                             genres  \\\n",
       "637                           Drama   \n",
       "680  Fantasy|Action|Science Fiction   \n",
       "683        Adventure|Family|Fantasy   \n",
       "706                           Drama   \n",
       "669   Family|Action|Science Fiction   \n",
       "..                              ...   \n",
       "622                  Fantasy|Action   \n",
       "607                Animation|Family   \n",
       "608                  Comedy|Romance   \n",
       "604                Adventure|Action   \n",
       "600     Drama|Action|Crime|Thriller   \n",
       "\n",
       "                                  production_companies release_date  \\\n",
       "637  Bazmark Films|Ingenious Film Partners|Twentiet...   11/18/2008   \n",
       "680  Ascendant Pictures|Rising Star|VIP Medienfonds...    4/24/2008   \n",
       "683                              Playtone|Walden Media    10/7/2008   \n",
       "706  Davis Entertainment|Relativity Media|IDEA Film...   10/10/2008   \n",
       "669  Village Roadshow Pictures|Studio Babelsberg|An...     5/9/2008   \n",
       "..                                                 ...          ...   \n",
       "622  Columbia Pictures|Weed Road Pictures|Forward P...     7/1/2008   \n",
       "607                               DreamWorks Animation     6/4/2008   \n",
       "608  Universal Pictures|Internationale Filmprodukti...    6/30/2008   \n",
       "604                       Lucasfilm|Paramount Pictures    5/21/2008   \n",
       "600  DC Comics|Legendary Pictures|Warner Bros.|Syncopy    7/16/2008   \n",
       "\n",
       "     vote_count  vote_average  release_year  \\\n",
       "637         411           6.3          2008   \n",
       "680         167           6.0          2008   \n",
       "683         358           6.1          2008   \n",
       "706          39           7.1          2008   \n",
       "669         194           5.6          2008   \n",
       "..          ...           ...           ...   \n",
       "622        1764           6.0          2008   \n",
       "607        1938           6.8          2008   \n",
       "608         805           6.2          2008   \n",
       "604        1537           5.6          2008   \n",
       "600        8432           8.1          2008   \n",
       "\n",
       "                                    actor_pair_counter     profit  \n",
       "637  {('Nicole Kidman', 'Hugh Jackman'): 1, ('Nicol...  -80445998  \n",
       "680  {('Jim Caviezel', 'Sophia Myles'): 1, ('Jim Ca...  -42966317  \n",
       "683  {('Saoirse Ronan', 'Harry Treadaway'): 1, ('Sa...  -37130952  \n",
       "706  {('Rob Brown', 'Dennis Quaid'): 1, ('Rob Brown...  -30206504  \n",
       "669  {('Emile Hirsch', 'Christina Ricci'): 1, ('Emi...  -26054234  \n",
       "..                                                 ...        ...  \n",
       "622  {('Will Smith', 'Charlize Theron'): 1, ('Will ...  474029371  \n",
       "607  {('Jack Black', 'Dustin Hoffman'): 1, ('Jack B...  501744560  \n",
       "608  {('Meryl Streep', 'Pierce Brosnan'): 1, ('Mery...  557841637  \n",
       "604  {('Harrison Ford', 'Cate Blanchett'): 1, ('Har...  601636033  \n",
       "600  {('Christian Bale', 'Michael Caine'): 1, ('Chr...  816921825  \n",
       "\n",
       "[121 rows x 18 columns]"
      ]
     },
     "metadata": {},
     "output_type": "display_data"
    }
   ],
   "source": [
    "data['profit'] = data.apply(lambda x: x.revenue - x.budget, axis=1)\n",
    "list=data[(data.release_year==2008) & (data.profit.max())].sort_values(by='profit')\n",
    "display(list)"
   ]
  },
  {
   "cell_type": "code",
   "execution_count": 20,
   "metadata": {},
   "outputs": [],
   "source": [
    "answer_ls.append(4)"
   ]
  },
  {
   "cell_type": "markdown",
   "metadata": {},
   "source": [
    "# 10. Самый убыточный фильм за период с 2012 по 2014 (включительно)?\n",
    "Варианты ответов:\n",
    "1. Winter's Tale\ttt1837709\n",
    "2. Stolen\ttt1656186\n",
    "3. Broken City\ttt1235522\n",
    "4. Upside Down\ttt1374992\n",
    "5. The Lone Ranger\ttt1210819\n"
   ]
  },
  {
   "cell_type": "code",
   "execution_count": 101,
   "metadata": {},
   "outputs": [
    {
     "data": {
      "text/html": [
       "<div>\n",
       "<style scoped>\n",
       "    .dataframe tbody tr th:only-of-type {\n",
       "        vertical-align: middle;\n",
       "    }\n",
       "\n",
       "    .dataframe tbody tr th {\n",
       "        vertical-align: top;\n",
       "    }\n",
       "\n",
       "    .dataframe thead th {\n",
       "        text-align: right;\n",
       "    }\n",
       "</style>\n",
       "<table border=\"1\" class=\"dataframe\">\n",
       "  <thead>\n",
       "    <tr style=\"text-align: right;\">\n",
       "      <th></th>\n",
       "      <th>imdb_id</th>\n",
       "      <th>popularity</th>\n",
       "      <th>budget</th>\n",
       "      <th>revenue</th>\n",
       "      <th>original_title</th>\n",
       "      <th>cast</th>\n",
       "      <th>director</th>\n",
       "      <th>tagline</th>\n",
       "      <th>overview</th>\n",
       "      <th>runtime</th>\n",
       "      <th>genres</th>\n",
       "      <th>production_companies</th>\n",
       "      <th>release_date</th>\n",
       "      <th>vote_count</th>\n",
       "      <th>vote_average</th>\n",
       "      <th>release_year</th>\n",
       "      <th>profit</th>\n",
       "    </tr>\n",
       "  </thead>\n",
       "  <tbody>\n",
       "    <tr>\n",
       "      <th>1246</th>\n",
       "      <td>tt1210819</td>\n",
       "      <td>1.214510</td>\n",
       "      <td>255000000</td>\n",
       "      <td>89289910</td>\n",
       "      <td>The Lone Ranger</td>\n",
       "      <td>Johnny Depp|Armie Hammer|William Fichtner|Hele...</td>\n",
       "      <td>Gore Verbinski</td>\n",
       "      <td>Never Take Off the Mask</td>\n",
       "      <td>The Texas Rangers chase down a gang of outlaws...</td>\n",
       "      <td>149</td>\n",
       "      <td>Action|Adventure|Western</td>\n",
       "      <td>Walt Disney Pictures|Jerry Bruckheimer Films|I...</td>\n",
       "      <td>7/3/2013</td>\n",
       "      <td>1607</td>\n",
       "      <td>6.0</td>\n",
       "      <td>2013</td>\n",
       "      <td>-165710090</td>\n",
       "    </tr>\n",
       "    <tr>\n",
       "      <th>1215</th>\n",
       "      <td>tt0790736</td>\n",
       "      <td>1.689869</td>\n",
       "      <td>130000000</td>\n",
       "      <td>61648500</td>\n",
       "      <td>R.I.P.D.</td>\n",
       "      <td>Jeff Bridges|Ryan Reynolds|Kevin Bacon|Stephan...</td>\n",
       "      <td>Robert Schwentke</td>\n",
       "      <td>To protect and serve the living</td>\n",
       "      <td>A recently slain cop joins a team of undead po...</td>\n",
       "      <td>96</td>\n",
       "      <td>Fantasy|Action|Comedy|Crime</td>\n",
       "      <td>Universal Pictures|Original Film|Dark Horse En...</td>\n",
       "      <td>7/18/2013</td>\n",
       "      <td>876</td>\n",
       "      <td>5.3</td>\n",
       "      <td>2013</td>\n",
       "      <td>-68351500</td>\n",
       "    </tr>\n",
       "    <tr>\n",
       "      <th>1008</th>\n",
       "      <td>tt1374992</td>\n",
       "      <td>1.690572</td>\n",
       "      <td>60000000</td>\n",
       "      <td>8106475</td>\n",
       "      <td>Upside Down</td>\n",
       "      <td>Kirsten Dunst|Jim Sturgess|Timothy Spall|James...</td>\n",
       "      <td>Juan Diego Solanas</td>\n",
       "      <td>Two worlds. One future.</td>\n",
       "      <td>In an alternate universe where twinned worlds ...</td>\n",
       "      <td>104</td>\n",
       "      <td>Romance|Science Fiction|Drama|Fantasy</td>\n",
       "      <td>Onyx Films|Studio 37|Jouror Productions|France...</td>\n",
       "      <td>9/27/2012</td>\n",
       "      <td>695</td>\n",
       "      <td>6.1</td>\n",
       "      <td>2012</td>\n",
       "      <td>-51893525</td>\n",
       "    </tr>\n",
       "    <tr>\n",
       "      <th>1303</th>\n",
       "      <td>tt0884726</td>\n",
       "      <td>0.354271</td>\n",
       "      <td>70000000</td>\n",
       "      <td>18662027</td>\n",
       "      <td>Legends of Oz: Dorothy's Return</td>\n",
       "      <td>Lea Michele|Dan Aykroyd|Patrick Stewart|Hugh D...</td>\n",
       "      <td>Dan St. Pierre</td>\n",
       "      <td>There's trouble in OZ...</td>\n",
       "      <td>Dorothy wakes up in post-tornado Kansas, only ...</td>\n",
       "      <td>88</td>\n",
       "      <td>Animation|Music|Family</td>\n",
       "      <td>Prana Animation Studios|Summertime Entertainment</td>\n",
       "      <td>6/13/2013</td>\n",
       "      <td>36</td>\n",
       "      <td>6.1</td>\n",
       "      <td>2013</td>\n",
       "      <td>-51337973</td>\n",
       "    </tr>\n",
       "    <tr>\n",
       "      <th>1236</th>\n",
       "      <td>tt1308729</td>\n",
       "      <td>1.319947</td>\n",
       "      <td>55000000</td>\n",
       "      <td>9489829</td>\n",
       "      <td>Bullet to the Head</td>\n",
       "      <td>Sylvester Stallone|Sung Kang|Sarah Shahi|Adewa...</td>\n",
       "      <td>Walter Hill</td>\n",
       "      <td>Revenge Never Gets Old.</td>\n",
       "      <td>After watching their respective partners die, ...</td>\n",
       "      <td>92</td>\n",
       "      <td>Action|Crime|Thriller</td>\n",
       "      <td>Dark Castle Entertainment|After Dark Films|IM ...</td>\n",
       "      <td>1/31/2013</td>\n",
       "      <td>347</td>\n",
       "      <td>5.2</td>\n",
       "      <td>2013</td>\n",
       "      <td>-45510171</td>\n",
       "    </tr>\n",
       "    <tr>\n",
       "      <th>...</th>\n",
       "      <td>...</td>\n",
       "      <td>...</td>\n",
       "      <td>...</td>\n",
       "      <td>...</td>\n",
       "      <td>...</td>\n",
       "      <td>...</td>\n",
       "      <td>...</td>\n",
       "      <td>...</td>\n",
       "      <td>...</td>\n",
       "      <td>...</td>\n",
       "      <td>...</td>\n",
       "      <td>...</td>\n",
       "      <td>...</td>\n",
       "      <td>...</td>\n",
       "      <td>...</td>\n",
       "      <td>...</td>\n",
       "      <td>...</td>\n",
       "    </tr>\n",
       "    <tr>\n",
       "      <th>1190</th>\n",
       "      <td>tt1690953</td>\n",
       "      <td>3.928789</td>\n",
       "      <td>76000000</td>\n",
       "      <td>970761885</td>\n",
       "      <td>Despicable Me 2</td>\n",
       "      <td>Steve Carell|Kristen Wiig|Benjamin Bratt|Miran...</td>\n",
       "      <td>Pierre Coffin|Chris Renaud</td>\n",
       "      <td>Back 2 Work</td>\n",
       "      <td>Gru is recruited by the Anti-Villain League to...</td>\n",
       "      <td>98</td>\n",
       "      <td>Animation|Comedy|Family</td>\n",
       "      <td>Universal Pictures|Illumination Entertainment</td>\n",
       "      <td>6/25/2013</td>\n",
       "      <td>3436</td>\n",
       "      <td>7.0</td>\n",
       "      <td>2013</td>\n",
       "      <td>894761885</td>\n",
       "    </tr>\n",
       "    <tr>\n",
       "      <th>975</th>\n",
       "      <td>tt1074638</td>\n",
       "      <td>5.603587</td>\n",
       "      <td>200000000</td>\n",
       "      <td>1108561013</td>\n",
       "      <td>Skyfall</td>\n",
       "      <td>Daniel Craig|Judi Dench|Javier Bardem|Ralph Fi...</td>\n",
       "      <td>Sam Mendes</td>\n",
       "      <td>Think on your sins.</td>\n",
       "      <td>When Bond's latest assignment goes gravely wro...</td>\n",
       "      <td>143</td>\n",
       "      <td>Action|Adventure|Thriller</td>\n",
       "      <td>Columbia Pictures</td>\n",
       "      <td>10/25/2012</td>\n",
       "      <td>6137</td>\n",
       "      <td>6.8</td>\n",
       "      <td>2012</td>\n",
       "      <td>908561013</td>\n",
       "    </tr>\n",
       "    <tr>\n",
       "      <th>1181</th>\n",
       "      <td>tt1300854</td>\n",
       "      <td>4.946136</td>\n",
       "      <td>200000000</td>\n",
       "      <td>1215439994</td>\n",
       "      <td>Iron Man 3</td>\n",
       "      <td>Robert Downey Jr.|Gwyneth Paltrow|Guy Pearce|D...</td>\n",
       "      <td>Shane Black</td>\n",
       "      <td>Unleash the power behind the armor.</td>\n",
       "      <td>When Tony Stark's world is torn apart by a for...</td>\n",
       "      <td>130</td>\n",
       "      <td>Action|Adventure|Science Fiction</td>\n",
       "      <td>Marvel Studios</td>\n",
       "      <td>4/18/2013</td>\n",
       "      <td>6882</td>\n",
       "      <td>6.9</td>\n",
       "      <td>2013</td>\n",
       "      <td>1015439994</td>\n",
       "    </tr>\n",
       "    <tr>\n",
       "      <th>1178</th>\n",
       "      <td>tt2294629</td>\n",
       "      <td>6.112766</td>\n",
       "      <td>150000000</td>\n",
       "      <td>1274219009</td>\n",
       "      <td>Frozen</td>\n",
       "      <td>Kristen Bell|Idina Menzel|Jonathan Groff|Josh ...</td>\n",
       "      <td>Chris Buck|Jennifer Lee</td>\n",
       "      <td>Only the act of true love will thaw a frozen h...</td>\n",
       "      <td>Young princess Anna of Arendelle dreams about ...</td>\n",
       "      <td>102</td>\n",
       "      <td>Animation|Adventure|Family</td>\n",
       "      <td>Walt Disney Pictures|Walt Disney Animation Stu...</td>\n",
       "      <td>11/27/2013</td>\n",
       "      <td>3369</td>\n",
       "      <td>7.5</td>\n",
       "      <td>2013</td>\n",
       "      <td>1124219009</td>\n",
       "    </tr>\n",
       "    <tr>\n",
       "      <th>971</th>\n",
       "      <td>tt0848228</td>\n",
       "      <td>7.637767</td>\n",
       "      <td>220000000</td>\n",
       "      <td>1519557910</td>\n",
       "      <td>The Avengers</td>\n",
       "      <td>Robert Downey Jr.|Chris Evans|Mark Ruffalo|Chr...</td>\n",
       "      <td>Joss Whedon</td>\n",
       "      <td>Some assembly required.</td>\n",
       "      <td>When an unexpected enemy emerges and threatens...</td>\n",
       "      <td>143</td>\n",
       "      <td>Science Fiction|Action|Adventure</td>\n",
       "      <td>Marvel Studios</td>\n",
       "      <td>4/25/2012</td>\n",
       "      <td>8903</td>\n",
       "      <td>7.3</td>\n",
       "      <td>2012</td>\n",
       "      <td>1299557910</td>\n",
       "    </tr>\n",
       "  </tbody>\n",
       "</table>\n",
       "<p>367 rows × 17 columns</p>\n",
       "</div>"
      ],
      "text/plain": [
       "        imdb_id  popularity     budget     revenue  \\\n",
       "1246  tt1210819    1.214510  255000000    89289910   \n",
       "1215  tt0790736    1.689869  130000000    61648500   \n",
       "1008  tt1374992    1.690572   60000000     8106475   \n",
       "1303  tt0884726    0.354271   70000000    18662027   \n",
       "1236  tt1308729    1.319947   55000000     9489829   \n",
       "...         ...         ...        ...         ...   \n",
       "1190  tt1690953    3.928789   76000000   970761885   \n",
       "975   tt1074638    5.603587  200000000  1108561013   \n",
       "1181  tt1300854    4.946136  200000000  1215439994   \n",
       "1178  tt2294629    6.112766  150000000  1274219009   \n",
       "971   tt0848228    7.637767  220000000  1519557910   \n",
       "\n",
       "                       original_title  \\\n",
       "1246                  The Lone Ranger   \n",
       "1215                         R.I.P.D.   \n",
       "1008                      Upside Down   \n",
       "1303  Legends of Oz: Dorothy's Return   \n",
       "1236               Bullet to the Head   \n",
       "...                               ...   \n",
       "1190                  Despicable Me 2   \n",
       "975                           Skyfall   \n",
       "1181                       Iron Man 3   \n",
       "1178                           Frozen   \n",
       "971                      The Avengers   \n",
       "\n",
       "                                                   cast  \\\n",
       "1246  Johnny Depp|Armie Hammer|William Fichtner|Hele...   \n",
       "1215  Jeff Bridges|Ryan Reynolds|Kevin Bacon|Stephan...   \n",
       "1008  Kirsten Dunst|Jim Sturgess|Timothy Spall|James...   \n",
       "1303  Lea Michele|Dan Aykroyd|Patrick Stewart|Hugh D...   \n",
       "1236  Sylvester Stallone|Sung Kang|Sarah Shahi|Adewa...   \n",
       "...                                                 ...   \n",
       "1190  Steve Carell|Kristen Wiig|Benjamin Bratt|Miran...   \n",
       "975   Daniel Craig|Judi Dench|Javier Bardem|Ralph Fi...   \n",
       "1181  Robert Downey Jr.|Gwyneth Paltrow|Guy Pearce|D...   \n",
       "1178  Kristen Bell|Idina Menzel|Jonathan Groff|Josh ...   \n",
       "971   Robert Downey Jr.|Chris Evans|Mark Ruffalo|Chr...   \n",
       "\n",
       "                        director  \\\n",
       "1246              Gore Verbinski   \n",
       "1215            Robert Schwentke   \n",
       "1008          Juan Diego Solanas   \n",
       "1303              Dan St. Pierre   \n",
       "1236                 Walter Hill   \n",
       "...                          ...   \n",
       "1190  Pierre Coffin|Chris Renaud   \n",
       "975                   Sam Mendes   \n",
       "1181                 Shane Black   \n",
       "1178     Chris Buck|Jennifer Lee   \n",
       "971                  Joss Whedon   \n",
       "\n",
       "                                                tagline  \\\n",
       "1246                            Never Take Off the Mask   \n",
       "1215                    To protect and serve the living   \n",
       "1008                            Two worlds. One future.   \n",
       "1303                           There's trouble in OZ...   \n",
       "1236                            Revenge Never Gets Old.   \n",
       "...                                                 ...   \n",
       "1190                                        Back 2 Work   \n",
       "975                                 Think on your sins.   \n",
       "1181                Unleash the power behind the armor.   \n",
       "1178  Only the act of true love will thaw a frozen h...   \n",
       "971                             Some assembly required.   \n",
       "\n",
       "                                               overview  runtime  \\\n",
       "1246  The Texas Rangers chase down a gang of outlaws...      149   \n",
       "1215  A recently slain cop joins a team of undead po...       96   \n",
       "1008  In an alternate universe where twinned worlds ...      104   \n",
       "1303  Dorothy wakes up in post-tornado Kansas, only ...       88   \n",
       "1236  After watching their respective partners die, ...       92   \n",
       "...                                                 ...      ...   \n",
       "1190  Gru is recruited by the Anti-Villain League to...       98   \n",
       "975   When Bond's latest assignment goes gravely wro...      143   \n",
       "1181  When Tony Stark's world is torn apart by a for...      130   \n",
       "1178  Young princess Anna of Arendelle dreams about ...      102   \n",
       "971   When an unexpected enemy emerges and threatens...      143   \n",
       "\n",
       "                                     genres  \\\n",
       "1246               Action|Adventure|Western   \n",
       "1215            Fantasy|Action|Comedy|Crime   \n",
       "1008  Romance|Science Fiction|Drama|Fantasy   \n",
       "1303                 Animation|Music|Family   \n",
       "1236                  Action|Crime|Thriller   \n",
       "...                                     ...   \n",
       "1190                Animation|Comedy|Family   \n",
       "975               Action|Adventure|Thriller   \n",
       "1181       Action|Adventure|Science Fiction   \n",
       "1178             Animation|Adventure|Family   \n",
       "971        Science Fiction|Action|Adventure   \n",
       "\n",
       "                                   production_companies release_date  \\\n",
       "1246  Walt Disney Pictures|Jerry Bruckheimer Films|I...     7/3/2013   \n",
       "1215  Universal Pictures|Original Film|Dark Horse En...    7/18/2013   \n",
       "1008  Onyx Films|Studio 37|Jouror Productions|France...    9/27/2012   \n",
       "1303   Prana Animation Studios|Summertime Entertainment    6/13/2013   \n",
       "1236  Dark Castle Entertainment|After Dark Films|IM ...    1/31/2013   \n",
       "...                                                 ...          ...   \n",
       "1190      Universal Pictures|Illumination Entertainment    6/25/2013   \n",
       "975                                   Columbia Pictures   10/25/2012   \n",
       "1181                                     Marvel Studios    4/18/2013   \n",
       "1178  Walt Disney Pictures|Walt Disney Animation Stu...   11/27/2013   \n",
       "971                                      Marvel Studios    4/25/2012   \n",
       "\n",
       "      vote_count  vote_average  release_year      profit  \n",
       "1246        1607           6.0          2013  -165710090  \n",
       "1215         876           5.3          2013   -68351500  \n",
       "1008         695           6.1          2012   -51893525  \n",
       "1303          36           6.1          2013   -51337973  \n",
       "1236         347           5.2          2013   -45510171  \n",
       "...          ...           ...           ...         ...  \n",
       "1190        3436           7.0          2013   894761885  \n",
       "975         6137           6.8          2012   908561013  \n",
       "1181        6882           6.9          2013  1015439994  \n",
       "1178        3369           7.5          2013  1124219009  \n",
       "971         8903           7.3          2012  1299557910  \n",
       "\n",
       "[367 rows x 17 columns]"
      ]
     },
     "metadata": {},
     "output_type": "display_data"
    }
   ],
   "source": [
    "list=data[(data.release_year>2011) & (data.release_year<2015)&(data.profit.min())].sort_values(by='profit')\n",
    "display(list)"
   ]
  },
  {
   "cell_type": "code",
   "execution_count": 21,
   "metadata": {},
   "outputs": [],
   "source": [
    "answer_ls.append(5)"
   ]
  },
  {
   "cell_type": "markdown",
   "metadata": {},
   "source": [
    "# 11. Какого жанра фильмов больше всего?\n",
    "Варианты ответов:\n",
    "1. Action\n",
    "2. Adventure\n",
    "3. Drama\n",
    "4. Comedy\n",
    "5. Thriller"
   ]
  },
  {
   "cell_type": "code",
   "execution_count": 141,
   "metadata": {},
   "outputs": [
    {
     "data": {
      "text/plain": [
       "Drama              782\n",
       "Comedy             683\n",
       "Thriller           597\n",
       "Action             583\n",
       "Adventure          416\n",
       "Crime              315\n",
       "Romance            308\n",
       "Family             260\n",
       "Science Fiction    248\n",
       "Fantasy            223\n",
       "Horror             176\n",
       "Mystery            168\n",
       "Animation          139\n",
       "Music               64\n",
       "History             62\n",
       "War                 58\n",
       "Western             20\n",
       "Documentary          8\n",
       "Foreign              2\n",
       "dtype: int64"
      ]
     },
     "execution_count": 141,
     "metadata": {},
     "output_type": "execute_result"
    }
   ],
   "source": [
    "pd.DataFrame(data.genres.str.split('|').tolist()).stack().value_counts()"
   ]
  },
  {
   "cell_type": "code",
   "execution_count": 22,
   "metadata": {},
   "outputs": [],
   "source": [
    "answer_ls.append(4)"
   ]
  },
  {
   "cell_type": "markdown",
   "metadata": {},
   "source": [
    "# 12. Какого жанра среди прибыльных фильмов больше всего?\n",
    "Варианты ответов:\n",
    "1. Drama\n",
    "2. Comedy\n",
    "3. Action\n",
    "4. Thriller\n",
    "5. Adventure"
   ]
  },
  {
   "cell_type": "code",
   "execution_count": 69,
   "metadata": {},
   "outputs": [
    {
     "data": {
      "text/plain": [
       "[('Drama', 560),\n",
       " ('Comedy', 551),\n",
       " ('Thriller', 446),\n",
       " ('Action', 444),\n",
       " ('Adventure', 337)]"
      ]
     },
     "metadata": {},
     "output_type": "display_data"
    }
   ],
   "source": [
    "c = Counter()\n",
    "for index, row in data.iterrows():\n",
    "    genres = row['genres'].split('|')\n",
    "    for genre in genres:\n",
    "        if row['profit'] > 0:\n",
    "            c[genre] += 1\n",
    "display(c.most_common(5))"
   ]
  },
  {
   "cell_type": "code",
   "execution_count": 23,
   "metadata": {},
   "outputs": [],
   "source": [
    "answer_ls.append(2)"
   ]
  },
  {
   "cell_type": "markdown",
   "metadata": {},
   "source": [
    "# 13. Кто из режиссеров снял больше всего фильмов?\n",
    "Варианты ответов:\n",
    "1. Steven Spielberg\n",
    "2. Ridley Scott \n",
    "3. Steven Soderbergh\n",
    "4. Christopher Nolan\n",
    "5. Clint Eastwood"
   ]
  },
  {
   "cell_type": "code",
   "execution_count": 122,
   "metadata": {},
   "outputs": [
    {
     "data": {
      "text/plain": [
       "Steven Soderbergh         13\n",
       "Clint Eastwood            12\n",
       "Ridley Scott              12\n",
       "Shawn Levy                10\n",
       "Steven Spielberg          10\n",
       "                          ..\n",
       "Steve Shill                1\n",
       "Don McKellar               1\n",
       "Chris Weitz|Paul Weitz     1\n",
       "Don Mancini                1\n",
       "Jerry Zucker               1\n",
       "Name: director, Length: 958, dtype: int64"
      ]
     },
     "execution_count": 122,
     "metadata": {},
     "output_type": "execute_result"
    }
   ],
   "source": [
    "data['director'].value_counts()"
   ]
  },
  {
   "cell_type": "code",
   "execution_count": 24,
   "metadata": {},
   "outputs": [],
   "source": [
    "answer_ls.append(3)"
   ]
  },
  {
   "cell_type": "markdown",
   "metadata": {},
   "source": [
    "# 14. Кто из режиссеров снял больше всего Прибыльных фильмов?\n",
    "Варианты ответов:\n",
    "1. Steven Soderbergh\n",
    "2. Clint Eastwood\n",
    "3. Steven Spielberg\n",
    "4. Ridley Scott\n",
    "5. Christopher Nolan"
   ]
  },
  {
   "cell_type": "code",
   "execution_count": 28,
   "metadata": {},
   "outputs": [
    {
     "data": {
      "text/plain": [
       "[('Ridley Scott', 12),\n",
       " ('Steven Spielberg', 10),\n",
       " ('Clint Eastwood', 10),\n",
       " ('Steven Soderbergh', 10),\n",
       " ('Shawn Levy', 9)]"
      ]
     },
     "metadata": {},
     "output_type": "display_data"
    }
   ],
   "source": [
    "c = Counter()\n",
    "for index, row in data.iterrows():\n",
    "    names = row['director'].split('|')\n",
    "    for name in names:\n",
    "        if row['profit'] > 0:\n",
    "            c[name] += 1\n",
    "display(c.most_common(5))"
   ]
  },
  {
   "cell_type": "code",
   "execution_count": 29,
   "metadata": {},
   "outputs": [],
   "source": [
    "answer_ls.append(4)"
   ]
  },
  {
   "cell_type": "markdown",
   "metadata": {},
   "source": [
    "# 15. Кто из режиссеров принес больше всего прибыли?\n",
    "Варианты ответов:\n",
    "1. Steven Spielberg\n",
    "2. Christopher Nolan\n",
    "3. David Yates\n",
    "4. James Cameron\n",
    "5. Peter Jackson\n"
   ]
  },
  {
   "cell_type": "code",
   "execution_count": 192,
   "metadata": {},
   "outputs": [
    {
     "data": {
      "text/plain": [
       "director\n",
       "Sngmoo Lee               -413912431\n",
       "James L. Brooks           -96289726\n",
       "Ron Underwood             -92896027\n",
       "Peter Hyams               -86956545\n",
       "David Bowers|Sam Fell     -84540684\n",
       "                            ...    \n",
       "Michael Bay              2760938960\n",
       "J.J. Abrams              2839169916\n",
       "Christopher Nolan        3162548502\n",
       "David Yates              3379295625\n",
       "Peter Jackson            5202593685\n",
       "Name: profit, Length: 958, dtype: int64"
      ]
     },
     "metadata": {},
     "output_type": "display_data"
    }
   ],
   "source": [
    "df = data.groupby(['director'])['profit'].sum()\n",
    "display(df.sort_values())"
   ]
  },
  {
   "cell_type": "code",
   "execution_count": 30,
   "metadata": {},
   "outputs": [],
   "source": [
    "\n",
    "answer_ls.append(5)"
   ]
  },
  {
   "cell_type": "markdown",
   "metadata": {},
   "source": [
    "# 16. Какой актер принес больше всего прибыли?\n",
    "\n",
    "Варианты ответов:\n",
    "\n",
    "1. Emma Watson\n",
    "2. Johnny Depp\n",
    "3. Michelle Rodriguez\n",
    "4. Orlando Bloom\n",
    "5. Rupert Grint"
   ]
  },
  {
   "cell_type": "code",
   "execution_count": 9,
   "metadata": {},
   "outputs": [
    {
     "data": {
      "text/plain": [
       "[('Emma Watson', 6666245597),\n",
       " ('Daniel Radcliffe', 6514990281),\n",
       " ('Rupert Grint', 6408638290),\n",
       " ('Ian McKellen', 6087375777),\n",
       " ('Robert Downey Jr.', 5316030161)]"
      ]
     },
     "metadata": {},
     "output_type": "display_data"
    }
   ],
   "source": [
    "c = Counter()\n",
    "for index, row in data.iterrows():\n",
    "    names = row['cast'].split('|')\n",
    "    for name in names:\n",
    "        c[name] += row['profit']\n",
    "display(c.most_common(5))"
   ]
  },
  {
   "cell_type": "code",
   "execution_count": 31,
   "metadata": {},
   "outputs": [],
   "source": [
    "answer_ls.append(1)"
   ]
  },
  {
   "cell_type": "markdown",
   "metadata": {},
   "source": [
    "# 17. Какой актер принес меньше всего прибыли в 2012 году?\n",
    "Варианты ответов:\n",
    "1. Nicolas Cage\n",
    "2. Danny Huston\n",
    "3. Kirsten Dunst\n",
    "4. Jim Sturgess\n",
    "5. Sami Gayle"
   ]
  },
  {
   "cell_type": "code",
   "execution_count": 66,
   "metadata": {},
   "outputs": [
    {
     "data": {
      "text/plain": [
       "[('Kirsten Dunst', -51893525),\n",
       " ('Jim Sturgess', -51893525),\n",
       " ('Timothy Spall', -51893525),\n",
       " ('James Kidnie', -51893525),\n",
       " ('Heidi Hawkins', -51893525)]"
      ]
     },
     "metadata": {},
     "output_type": "display_data"
    }
   ],
   "source": [
    "c = Counter()\n",
    "for index, row in data.iterrows():\n",
    "    names = row['cast'].split('|')\n",
    "    for name in names:\n",
    "        if row['release_year'] == 2012 and row['profit'] < -32893443:\n",
    "            c[name] += row['profit']\n",
    "display(c.most_common(6))"
   ]
  },
  {
   "cell_type": "code",
   "execution_count": 32,
   "metadata": {},
   "outputs": [],
   "source": [
    "answer_ls.append(2)"
   ]
  },
  {
   "cell_type": "markdown",
   "metadata": {},
   "source": [
    "# 18. Какой актер снялся в большем количестве высокобюджетных фильмов? (в фильмах где бюджет выше среднего по данной выборке)\n",
    "Варианты ответов:\n",
    "1. Tom Cruise\n",
    "2. Mark Wahlberg \n",
    "3. Matt Damon\n",
    "4. Angelina Jolie\n",
    "5. Adam Sandler"
   ]
  },
  {
   "cell_type": "code",
   "execution_count": 213,
   "metadata": {},
   "outputs": [
    {
     "data": {
      "text/plain": [
       "Matt Damon           18\n",
       "Adam Sandler         17\n",
       "Angelina Jolie       16\n",
       "Eddie Murphy         15\n",
       "Samuel L. Jackson    15\n",
       "                     ..\n",
       "Jason Bonham          1\n",
       "Rachel Nichols        1\n",
       "Thomas Jane           1\n",
       "Ed Asner              1\n",
       "Jay Chou              1\n",
       "Length: 1508, dtype: int64"
      ]
     },
     "execution_count": 213,
     "metadata": {},
     "output_type": "execute_result"
    }
   ],
   "source": [
    "data_a = data[data['budget'] > data['budget'].mean()]\n",
    "pd.DataFrame(data_a.cast.str.split('|').tolist()).stack().value_counts()"
   ]
  },
  {
   "cell_type": "code",
   "execution_count": 33,
   "metadata": {},
   "outputs": [],
   "source": [
    "answer_ls.append(3)"
   ]
  },
  {
   "cell_type": "markdown",
   "metadata": {},
   "source": [
    "# 19. В фильмах какого жанра больше всего снимался Nicolas Cage?  \n",
    "Варианты ответа:\n",
    "1. Drama\n",
    "2. Action\n",
    "3. Thriller\n",
    "4. Adventure\n",
    "5. Crime"
   ]
  },
  {
   "cell_type": "code",
   "execution_count": 26,
   "metadata": {},
   "outputs": [
    {
     "data": {
      "text/plain": [
       "17"
      ]
     },
     "execution_count": 26,
     "metadata": {},
     "output_type": "execute_result"
    }
   ],
   "source": [
    "data[data.cast.map(lambda x: True if 'Nicolas Cage' in x else False)]['genres'].str.cat(sep='|').split('|').count('Action')"
   ]
  },
  {
   "cell_type": "code",
   "execution_count": 34,
   "metadata": {},
   "outputs": [],
   "source": [
    "answer_ls.append(2)"
   ]
  },
  {
   "cell_type": "markdown",
   "metadata": {},
   "source": [
    "# 20. Какая студия сняла больше всего фильмов?\n",
    "Варианты ответа:\n",
    "1. Universal Pictures (Universal)\n",
    "2. Paramount Pictures\n",
    "3. Columbia Pictures\n",
    "4. Warner Bros\n",
    "5. Twentieth Century Fox Film Corporation"
   ]
  },
  {
   "cell_type": "code",
   "execution_count": 35,
   "metadata": {},
   "outputs": [
    {
     "data": {
      "text/plain": [
       "[('Universal Pictures', 173),\n",
       " ('Warner Bros.', 168),\n",
       " ('Paramount Pictures', 122),\n",
       " ('Columbia Pictures', 117),\n",
       " ('Twentieth Century Fox Film Corporation', 109)]"
      ]
     },
     "metadata": {},
     "output_type": "display_data"
    }
   ],
   "source": [
    "c = Counter()\n",
    "for index, row in data.iterrows():\n",
    "    companies = row['production_companies'].split('|')\n",
    "    for company in companies:\n",
    "        c[company] += 1\n",
    "display(c.most_common(5))"
   ]
  },
  {
   "cell_type": "code",
   "execution_count": 35,
   "metadata": {},
   "outputs": [],
   "source": [
    "answer_ls.append(4)"
   ]
  },
  {
   "cell_type": "markdown",
   "metadata": {},
   "source": [
    "# 21. Какая студия сняла больше всего фильмов в 2015 году?\n",
    "Варианты ответа:\n",
    "1. Universal Pictures\n",
    "2. Paramount Pictures\n",
    "3. Columbia Pictures\n",
    "4. Warner Bros\n",
    "5. Twentieth Century Fox Film Corporation"
   ]
  },
  {
   "cell_type": "code",
   "execution_count": 92,
   "metadata": {},
   "outputs": [
    {
     "data": {
      "text/plain": [
       "[('Warner Bros.', 12),\n",
       " ('Universal Pictures', 10),\n",
       " ('Twentieth Century Fox Film Corporation', 8),\n",
       " ('Paramount Pictures', 7),\n",
       " ('Columbia Pictures', 7)]"
      ]
     },
     "metadata": {},
     "output_type": "display_data"
    }
   ],
   "source": [
    "c = Counter()\n",
    "for index, row in data.iterrows():\n",
    "    companies = row['production_companies'].split('|')\n",
    "    for company in companies:\n",
    "        if row['release_year'] == 2015:\n",
    "            c[company] += 1\n",
    "display(c.most_common(5))"
   ]
  },
  {
   "cell_type": "code",
   "execution_count": 36,
   "metadata": {},
   "outputs": [],
   "source": [
    "answer_ls.append(4)"
   ]
  },
  {
   "cell_type": "markdown",
   "metadata": {},
   "source": [
    "# 22. Какая студия заработала больше всего денег в жанре комедий за все время?\n",
    "Варианты ответа:\n",
    "1. Warner Bros\n",
    "2. Universal Pictures (Universal)\n",
    "3. Columbia Pictures\n",
    "4. Paramount Pictures\n",
    "5. Walt Disney"
   ]
  },
  {
   "cell_type": "code",
   "execution_count": 34,
   "metadata": {},
   "outputs": [
    {
     "data": {
      "text/plain": [
       "[('Universal Pictures', 9230497464),\n",
       " ('Walt Disney Pictures', 7675758865),\n",
       " ('Columbia Pictures', 5803070812),\n",
       " ('Twentieth Century Fox Film Corporation', 5750322962),\n",
       " ('DreamWorks Animation', 4892157721)]"
      ]
     },
     "metadata": {},
     "output_type": "display_data"
    }
   ],
   "source": [
    "c = Counter()\n",
    "for index, row in data.iterrows():\n",
    "    companies = row['production_companies'].split('|')\n",
    "    genres = row['genres'].split('|')\n",
    "    for genre in genres:\n",
    "        if genre == 'Comedy':\n",
    "            for company in companies:\n",
    "                if row['profit'] > 0:\n",
    "                    c[company] += row['profit']\n",
    "display(c.most_common(5))"
   ]
  },
  {
   "cell_type": "code",
   "execution_count": 37,
   "metadata": {},
   "outputs": [],
   "source": [
    "answer_ls.append(2)"
   ]
  },
  {
   "cell_type": "markdown",
   "metadata": {},
   "source": [
    "# 23. Какая студия заработала больше всего денег в 2012 году?\n",
    "Варианты ответа:\n",
    "1. Universal Pictures (Universal)\n",
    "2. Warner Bros\n",
    "3. Columbia Pictures\n",
    "4. Paramount Pictures\n",
    "5. Lucasfilm"
   ]
  },
  {
   "cell_type": "code",
   "execution_count": 93,
   "metadata": {},
   "outputs": [
    {
     "data": {
      "text/plain": [
       "[('Columbia Pictures', 2501406608),\n",
       " ('Universal Pictures', 1981011579),\n",
       " ('Marvel Studios', 1299557910),\n",
       " ('Warner Bros.', 1258020056),\n",
       " ('Relativity Media', 1032593938)]"
      ]
     },
     "metadata": {},
     "output_type": "display_data"
    }
   ],
   "source": [
    "c = Counter()\n",
    "for index, row in data.iterrows():\n",
    "    companies = row['production_companies'].split('|')\n",
    "    for company in companies:\n",
    "        if row['release_year'] == 2012:\n",
    "            c[company] += row['profit']\n",
    "display(c.most_common(5))"
   ]
  },
  {
   "cell_type": "code",
   "execution_count": 38,
   "metadata": {},
   "outputs": [],
   "source": [
    "answer_ls.append(3)"
   ]
  },
  {
   "cell_type": "markdown",
   "metadata": {},
   "source": [
    "# 24. Самый убыточный фильм от Paramount Pictures\n",
    "Варианты ответа:\n",
    "\n",
    "1. K-19: The Widowmaker tt0267626\n",
    "2. Next tt0435705\n",
    "3. Twisted tt0315297\n",
    "4. The Love Guru tt0811138\n",
    "5. The Fighter tt0964517"
   ]
  },
  {
   "cell_type": "code",
   "execution_count": 76,
   "metadata": {},
   "outputs": [
    {
     "data": {
      "text/plain": [
       "[('tt0375173', -46604061),\n",
       " ('tt0435705', -51788987),\n",
       " ('tt0300556', -60519261),\n",
       " ('tt0267626', -64831034)]"
      ]
     },
     "metadata": {},
     "output_type": "display_data"
    }
   ],
   "source": [
    "c = Counter()\n",
    "for index, row in data.iterrows():\n",
    "    companies = row['production_companies'].split('|')\n",
    "    ids = row['imdb_id'].split('|')\n",
    "    for company in companies:\n",
    "        if company == 'Paramount Pictures' and row['profit'] < -24831034:\n",
    "            for i in ids:\n",
    "                c[i] += row['profit']\n",
    "display(c.most_common(5))"
   ]
  },
  {
   "cell_type": "code",
   "execution_count": 39,
   "metadata": {},
   "outputs": [],
   "source": [
    "answer_ls.append(1)"
   ]
  },
  {
   "cell_type": "markdown",
   "metadata": {},
   "source": [
    "# 25. Какой Самый прибыльный год (заработали больше всего)?\n",
    "Варианты ответа:\n",
    "1. 2014\n",
    "2. 2008\n",
    "3. 2012\n",
    "4. 2002\n",
    "5. 2015"
   ]
  },
  {
   "cell_type": "code",
   "execution_count": 98,
   "metadata": {},
   "outputs": [
    {
     "data": {
      "text/plain": [
       "[('2015', 18668572378),\n",
       " ('2014', 16397812953),\n",
       " ('2012', 16077001687),\n",
       " ('2013', 15243179791),\n",
       " ('2011', 14730241341)]"
      ]
     },
     "metadata": {},
     "output_type": "display_data"
    }
   ],
   "source": [
    "data['year'] = [release_date.split('/')[2] for release_date in data.release_date]\n",
    "\n",
    "c = Counter()\n",
    "for index, row in data.iterrows():\n",
    "    dates = row['year'].split('|')\n",
    "    for date in dates:\n",
    "        c[date] += row['profit']\n",
    "display(c.most_common(5))"
   ]
  },
  {
   "cell_type": "code",
   "execution_count": 40,
   "metadata": {},
   "outputs": [],
   "source": [
    "answer_ls.append(5)"
   ]
  },
  {
   "cell_type": "markdown",
   "metadata": {},
   "source": [
    "# 26. Какой Самый прибыльный год для студии Warner Bros?\n",
    "Варианты ответа:\n",
    "1. 2014\n",
    "2. 2008\n",
    "3. 2012\n",
    "4. 2010\n",
    "5. 2015"
   ]
  },
  {
   "cell_type": "code",
   "execution_count": 92,
   "metadata": {},
   "outputs": [
    {
     "data": {
      "text/plain": [
       "release_year\n",
       "2000    1025531386\n",
       "2006    1521170743\n",
       "2015    1691168351\n",
       "2002    1702709901\n",
       "2012    1869520056\n",
       "2001    2266545668\n",
       "2005    2412980298\n",
       "2013    2599953400\n",
       "2004    2731933725\n",
       "2009    2737954136\n",
       "2003    2745493377\n",
       "2011    2845393682\n",
       "2010    3008712985\n",
       "2008    3050595031\n",
       "2007    3183675217\n",
       "2014    3243064519\n",
       "Name: revenue, dtype: int64"
      ]
     },
     "execution_count": 92,
     "metadata": {},
     "output_type": "execute_result"
    }
   ],
   "source": [
    "data_warner = data[data.production_companies.apply(lambda companies: 'Warner Bros.' in companies)]\n",
    "display(data_warner.groupby(['release_year']).profit.sum().sort_values(ascending=False))"
   ]
  },
  {
   "cell_type": "code",
   "execution_count": 41,
   "metadata": {},
   "outputs": [],
   "source": [
    "answer_ls.append(1)"
   ]
  },
  {
   "cell_type": "markdown",
   "metadata": {},
   "source": [
    "# 27. В каком месяце за все годы суммарно вышло больше всего фильмов?\n",
    "Варианты ответа:\n",
    "1. Январь\n",
    "2. Июнь\n",
    "3. Декабрь\n",
    "4. Сентябрь\n",
    "5. Май"
   ]
  },
  {
   "cell_type": "code",
   "execution_count": 12,
   "metadata": {},
   "outputs": [
    {
     "data": {
      "text/plain": [
       "[('9', 227), ('12', 191), ('10', 186), ('8', 161), ('3', 156)]"
      ]
     },
     "metadata": {},
     "output_type": "display_data"
    }
   ],
   "source": [
    "data['month'] = [release_date.split('/')[0] for release_date in data.release_date]\n",
    "c = Counter()\n",
    "for index, row in data.iterrows():\n",
    "    dates = row['month'].split('|')\n",
    "    for date in dates:\n",
    "        c[date] += 1\n",
    "display(c.most_common(5))\n"
   ]
  },
  {
   "cell_type": "code",
   "execution_count": 42,
   "metadata": {},
   "outputs": [],
   "source": [
    "answer_ls.append(4)"
   ]
  },
  {
   "cell_type": "markdown",
   "metadata": {},
   "source": [
    "# 28. Сколько суммарно вышло фильмов летом? (за июнь, июль, август)\n",
    "Варианты ответа:\n",
    "1. 345\n",
    "2. 450\n",
    "3. 478\n",
    "4. 523\n",
    "5. 381"
   ]
  },
  {
   "cell_type": "code",
   "execution_count": 39,
   "metadata": {},
   "outputs": [
    {
     "data": {
      "text/plain": [
       "[('8', 161), ('6', 147), ('7', 142)]"
      ]
     },
     "metadata": {},
     "output_type": "display_data"
    }
   ],
   "source": [
    "c = Counter()\n",
    "for index, row in data.iterrows():\n",
    "    dates = row['month'].split('|')\n",
    "    for date in dates:\n",
    "        if row['month'] == '6' or row['month'] == '7' or row['month'] == '8':\n",
    "            c[date] += 1\n",
    "display(c.most_common(5))"
   ]
  },
  {
   "cell_type": "code",
   "execution_count": 43,
   "metadata": {},
   "outputs": [],
   "source": [
    "answer_ls.append(2)"
   ]
  },
  {
   "cell_type": "markdown",
   "metadata": {},
   "source": [
    "# 29. Какой режисер выпускает (суммарно по годам) больше всего фильмов зимой?\n",
    "Варианты ответов:\n",
    "1. Steven Soderbergh\n",
    "2. Christopher Nolan\n",
    "3. Clint Eastwood\n",
    "4. Ridley Scott\n",
    "5. Peter Jackson"
   ]
  },
  {
   "cell_type": "code",
   "execution_count": 40,
   "metadata": {},
   "outputs": [
    {
     "data": {
      "text/plain": [
       "[('Peter Jackson', 7),\n",
       " ('Clint Eastwood', 6),\n",
       " ('Steven Soderbergh', 6),\n",
       " ('Shawn Levy', 4),\n",
       " ('Nancy Meyers', 4)]"
      ]
     },
     "metadata": {},
     "output_type": "display_data"
    }
   ],
   "source": [
    "c = Counter()\n",
    "for index, row in data.iterrows():\n",
    "    directors = row['director'].split('|')\n",
    "    for director in directors:\n",
    "        if row['month'] == '12' or row['month'] == '1' or row['month'] == '2':\n",
    "            c[director] += 1\n",
    "display(c.most_common(5))"
   ]
  },
  {
   "cell_type": "code",
   "execution_count": 44,
   "metadata": {},
   "outputs": [],
   "source": [
    "answer_ls.append(5)"
   ]
  },
  {
   "cell_type": "markdown",
   "metadata": {},
   "source": [
    "# 30. Какой месяц чаще всего по годам самый прибыльный?\n",
    "Варианты ответа:\n",
    "1. Январь\n",
    "2. Июнь\n",
    "3. Декабрь\n",
    "4. Сентябрь\n",
    "5. Май"
   ]
  },
  {
   "cell_type": "code",
   "execution_count": 83,
   "metadata": {},
   "outputs": [
    {
     "data": {
      "text/plain": [
       "6     7\n",
       "12    4\n",
       "5     4\n",
       "7     1\n",
       "Name: month, dtype: int64"
      ]
     },
     "metadata": {},
     "output_type": "display_data"
    }
   ],
   "source": [
    "df = data\n",
    "\n",
    "d = df.groupby(['release_year','month'])['profit'].sum()\n",
    "\n",
    "h = d_df.groupby(['release_year'])['profit'].max()\n",
    "h_df = h.reset_index()\n",
    "\n",
    "joined = h_df.merge(d_df, on='profit', how='left')\n",
    "\n",
    "a = joined['month'].value_counts()\n",
    "display(a)"
   ]
  },
  {
   "cell_type": "code",
   "execution_count": 45,
   "metadata": {},
   "outputs": [],
   "source": [
    "answer_ls.append(2)"
   ]
  },
  {
   "cell_type": "markdown",
   "metadata": {},
   "source": [
    "# 31. Названия фильмов какой студии в среднем самые длинные по количеству символов?\n",
    "Варианты ответа:\n",
    "1. Universal Pictures (Universal)\n",
    "2. Warner Bros\n",
    "3. Jim Henson Company, The\n",
    "4. Paramount Pictures\n",
    "5. Four By Two Productions"
   ]
  },
  {
   "cell_type": "code",
   "execution_count": 79,
   "metadata": {},
   "outputs": [
    {
     "data": {
      "text/html": [
       "<div>\n",
       "<style scoped>\n",
       "    .dataframe tbody tr th:only-of-type {\n",
       "        vertical-align: middle;\n",
       "    }\n",
       "\n",
       "    .dataframe tbody tr th {\n",
       "        vertical-align: top;\n",
       "    }\n",
       "\n",
       "    .dataframe thead th {\n",
       "        text-align: right;\n",
       "    }\n",
       "</style>\n",
       "<table border=\"1\" class=\"dataframe\">\n",
       "  <thead>\n",
       "    <tr style=\"text-align: right;\">\n",
       "      <th></th>\n",
       "      <th>0</th>\n",
       "    </tr>\n",
       "  </thead>\n",
       "  <tbody>\n",
       "    <tr>\n",
       "      <th>Four By Two Productions</th>\n",
       "      <td>83</td>\n",
       "    </tr>\n",
       "    <tr>\n",
       "      <th>Jim Henson Company, The</th>\n",
       "      <td>59</td>\n",
       "    </tr>\n",
       "    <tr>\n",
       "      <th>Dos Corazones</th>\n",
       "      <td>47</td>\n",
       "    </tr>\n",
       "    <tr>\n",
       "      <th>Polsky Films</th>\n",
       "      <td>46</td>\n",
       "    </tr>\n",
       "    <tr>\n",
       "      <th>Museum Canada Productions</th>\n",
       "      <td>46</td>\n",
       "    </tr>\n",
       "    <tr>\n",
       "      <th>...</th>\n",
       "      <td>...</td>\n",
       "    </tr>\n",
       "    <tr>\n",
       "      <th>Berlanti Productions</th>\n",
       "      <td>3</td>\n",
       "    </tr>\n",
       "    <tr>\n",
       "      <th>Everest Entertainment</th>\n",
       "      <td>3</td>\n",
       "    </tr>\n",
       "    <tr>\n",
       "      <th>Ixtlan Productions</th>\n",
       "      <td>2</td>\n",
       "    </tr>\n",
       "    <tr>\n",
       "      <th>XM2 Productions</th>\n",
       "      <td>2</td>\n",
       "    </tr>\n",
       "    <tr>\n",
       "      <th>Global Entertainment Group</th>\n",
       "      <td>2</td>\n",
       "    </tr>\n",
       "  </tbody>\n",
       "</table>\n",
       "<p>1772 rows × 1 columns</p>\n",
       "</div>"
      ],
      "text/plain": [
       "                             0\n",
       "Four By Two Productions     83\n",
       "Jim Henson Company, The     59\n",
       "Dos Corazones               47\n",
       "Polsky Films                46\n",
       "Museum Canada Productions   46\n",
       "...                         ..\n",
       "Berlanti Productions         3\n",
       "Everest Entertainment        3\n",
       "Ixtlan Productions           2\n",
       "XM2 Productions              2\n",
       "Global Entertainment Group   2\n",
       "\n",
       "[1772 rows x 1 columns]"
      ]
     },
     "metadata": {},
     "output_type": "display_data"
    }
   ],
   "source": [
    "data['title_length'] = data['original_title'].map(lambda x: len(x))\n",
    "\n",
    "def counter(movie_bd, x):\n",
    "    data_plot=movie_bd[x].str.cat(sep='|')\n",
    "    dat=pd.Series(data_plot.split('|'))\n",
    "    info=dat.value_counts(ascending=False)\n",
    "    return info\n",
    "\n",
    "sum_gen = counter(data, 'production_companies')\n",
    "for gen in sum_gen.index:\n",
    "    sum_gen[gen] = data['title_length'][data['production_companies'].map(lambda x: True if gen in x else False)].mean()\n",
    "sum_gen = pd.DataFrame(sum_gen).sort_values(0, ascending=False)\n",
    "\n",
    "display(sum_gen)"
   ]
  },
  {
   "cell_type": "code",
   "execution_count": 46,
   "metadata": {},
   "outputs": [],
   "source": [
    "answer_ls.append(5)"
   ]
  },
  {
   "cell_type": "markdown",
   "metadata": {},
   "source": [
    "# 32. Названия фильмов какой студии в среднем самые длинные по количеству слов?\n",
    "Варианты ответа:\n",
    "1. Universal Pictures (Universal)\n",
    "2. Warner Bros\n",
    "3. Jim Henson Company, The\n",
    "4. Paramount Pictures\n",
    "5. Four By Two Productions"
   ]
  },
  {
   "cell_type": "code",
   "execution_count": 8,
   "metadata": {},
   "outputs": [
    {
     "data": {
      "text/plain": [
       "[('Universal Pictures', 173),\n",
       " ('Warner Bros.', 168),\n",
       " ('Paramount Pictures', 122),\n",
       " ('Columbia Pictures', 117),\n",
       " ('Twentieth Century Fox Film Corporation', 109)]"
      ]
     },
     "metadata": {},
     "output_type": "display_data"
    }
   ],
   "source": [
    "c = Counter()\n",
    "for index, row in data.iterrows():\n",
    "    companies = row['production_companies'].split('|')\n",
    "    words = row['original_title'].split('|')\n",
    "    for word in words:\n",
    "        c[word] += 1\n",
    "        for company in companies:\n",
    "            c[company] += 1\n",
    "display(c.most_common(5))"
   ]
  },
  {
   "cell_type": "code",
   "execution_count": 47,
   "metadata": {},
   "outputs": [],
   "source": [
    "answer_ls.append(1)"
   ]
  },
  {
   "cell_type": "markdown",
   "metadata": {},
   "source": [
    "# 33. Сколько разных слов используется в названиях фильмов?(без учета регистра)\n",
    "Варианты ответа:\n",
    "1. 6540\n",
    "2. 1002\n",
    "3. 2461\n",
    "4. 28304\n",
    "5. 3432"
   ]
  },
  {
   "cell_type": "code",
   "execution_count": 78,
   "metadata": {},
   "outputs": [
    {
     "name": "stdout",
     "output_type": "stream",
     "text": [
      "2461\n"
     ]
    }
   ],
   "source": [
    "words = set()\n",
    "for i in data['original_title'].to_list():\n",
    "    for j in i.lower().split():\n",
    "        words.add(j)\n",
    "print(len(words))"
   ]
  },
  {
   "cell_type": "code",
   "execution_count": 48,
   "metadata": {},
   "outputs": [],
   "source": [
    "answer_ls.append(3)"
   ]
  },
  {
   "cell_type": "markdown",
   "metadata": {},
   "source": [
    "# 34. Какие фильмы входят в 1 процент лучших по рейтингу?\n",
    "Варианты ответа:\n",
    "1. Inside Out, Gone Girl, 12 Years a Slave\n",
    "2. BloodRayne, The Adventures of Rocky & Bullwinkle\n",
    "3. The Lord of the Rings: The Return of the King\n",
    "4. 300, Lucky Number Slevin"
   ]
  },
  {
   "cell_type": "code",
   "execution_count": 60,
   "metadata": {},
   "outputs": [
    {
     "data": {
      "text/html": [
       "<div>\n",
       "<style scoped>\n",
       "    .dataframe tbody tr th:only-of-type {\n",
       "        vertical-align: middle;\n",
       "    }\n",
       "\n",
       "    .dataframe tbody tr th {\n",
       "        vertical-align: top;\n",
       "    }\n",
       "\n",
       "    .dataframe thead th {\n",
       "        text-align: right;\n",
       "    }\n",
       "</style>\n",
       "<table border=\"1\" class=\"dataframe\">\n",
       "  <thead>\n",
       "    <tr style=\"text-align: right;\">\n",
       "      <th></th>\n",
       "      <th>original_title</th>\n",
       "      <th>vote_average</th>\n",
       "    </tr>\n",
       "  </thead>\n",
       "  <tbody>\n",
       "    <tr>\n",
       "      <th>119</th>\n",
       "      <td>Guardians of the Galaxy</td>\n",
       "      <td>7.9</td>\n",
       "    </tr>\n",
       "    <tr>\n",
       "      <th>128</th>\n",
       "      <td>Gone Girl</td>\n",
       "      <td>7.9</td>\n",
       "    </tr>\n",
       "    <tr>\n",
       "      <th>138</th>\n",
       "      <td>The Grand Budapest Hotel</td>\n",
       "      <td>7.9</td>\n",
       "    </tr>\n",
       "    <tr>\n",
       "      <th>370</th>\n",
       "      <td>Inception</td>\n",
       "      <td>7.9</td>\n",
       "    </tr>\n",
       "    <tr>\n",
       "      <th>873</th>\n",
       "      <td>The Pianist</td>\n",
       "      <td>7.9</td>\n",
       "    </tr>\n",
       "    <tr>\n",
       "      <th>1082</th>\n",
       "      <td>The Lord of the Rings: The Return of the King</td>\n",
       "      <td>7.9</td>\n",
       "    </tr>\n",
       "    <tr>\n",
       "      <th>1184</th>\n",
       "      <td>The Wolf of Wall Street</td>\n",
       "      <td>7.9</td>\n",
       "    </tr>\n",
       "    <tr>\n",
       "      <th>1192</th>\n",
       "      <td>12 Years a Slave</td>\n",
       "      <td>7.9</td>\n",
       "    </tr>\n",
       "    <tr>\n",
       "      <th>1801</th>\n",
       "      <td>Memento</td>\n",
       "      <td>7.9</td>\n",
       "    </tr>\n",
       "    <tr>\n",
       "      <th>9</th>\n",
       "      <td>Inside Out</td>\n",
       "      <td>8.0</td>\n",
       "    </tr>\n",
       "    <tr>\n",
       "      <th>34</th>\n",
       "      <td>Room</td>\n",
       "      <td>8.0</td>\n",
       "    </tr>\n",
       "    <tr>\n",
       "      <th>118</th>\n",
       "      <td>Interstellar</td>\n",
       "      <td>8.0</td>\n",
       "    </tr>\n",
       "    <tr>\n",
       "      <th>125</th>\n",
       "      <td>The Imitation Game</td>\n",
       "      <td>8.0</td>\n",
       "    </tr>\n",
       "    <tr>\n",
       "      <th>600</th>\n",
       "      <td>The Dark Knight</td>\n",
       "      <td>8.1</td>\n",
       "    </tr>\n",
       "  </tbody>\n",
       "</table>\n",
       "</div>"
      ],
      "text/plain": [
       "                                     original_title  vote_average\n",
       "119                         Guardians of the Galaxy           7.9\n",
       "128                                       Gone Girl           7.9\n",
       "138                        The Grand Budapest Hotel           7.9\n",
       "370                                       Inception           7.9\n",
       "873                                     The Pianist           7.9\n",
       "1082  The Lord of the Rings: The Return of the King           7.9\n",
       "1184                        The Wolf of Wall Street           7.9\n",
       "1192                               12 Years a Slave           7.9\n",
       "1801                                        Memento           7.9\n",
       "9                                        Inside Out           8.0\n",
       "34                                             Room           8.0\n",
       "118                                    Interstellar           8.0\n",
       "125                              The Imitation Game           8.0\n",
       "600                                 The Dark Knight           8.1"
      ]
     },
     "metadata": {},
     "output_type": "display_data"
    }
   ],
   "source": [
    "top_percent_check = 1\n",
    "top_percent_vote = np.percentile(data['vote_average'], (100-top_percent_check))\n",
    "display(data[data.vote_average>top_percent_vote].sort_values(by='vote_average')[['original_title', 'vote_average']])"
   ]
  },
  {
   "cell_type": "code",
   "execution_count": 49,
   "metadata": {},
   "outputs": [],
   "source": [
    "answer_ls.append(1)"
   ]
  },
  {
   "cell_type": "markdown",
   "metadata": {},
   "source": [
    "# 35. Какие актеры чаще всего снимаются в одном фильме вместе\n",
    "Варианты ответа:\n",
    "1. Johnny Depp & Helena Bonham Carter\n",
    "2. Hugh Jackman & Ian McKellen\n",
    "3. Vin Diesel & Paul Walker\n",
    "4. Adam Sandler & Kevin James\n",
    "5. Daniel Radcliffe & Rupert Grint"
   ]
  },
  {
   "cell_type": "code",
   "execution_count": 4,
   "metadata": {},
   "outputs": [
    {
     "data": {
      "text/plain": [
       "[(('Daniel Radcliffe', 'Rupert Grint'), 8),\n",
       " (('Daniel Radcliffe', 'Emma Watson'), 8),\n",
       " (('Rupert Grint', 'Emma Watson'), 7),\n",
       " (('Ben Stiller', 'Owen Wilson'), 6),\n",
       " (('Johnny Depp', 'Helena Bonham Carter'), 6)]"
      ]
     },
     "execution_count": 4,
     "metadata": {},
     "output_type": "execute_result"
    }
   ],
   "source": [
    "data['actor_pair_counter'] = data['cast'].apply(lambda x: Counter(combinations(x.split('|'), 2)))\n",
    "data['actor_pair_counter'].sum().most_common(5)"
   ]
  },
  {
   "cell_type": "code",
   "execution_count": 50,
   "metadata": {},
   "outputs": [],
   "source": [
    "answer_ls.append(5)"
   ]
  },
  {
   "cell_type": "markdown",
   "metadata": {},
   "source": [
    "# 36. У какого из режиссеров самый высокий процент фильмов со сборами выше бюджета?\n",
    "Варианты ответа:\n",
    "1. Quentin Tarantino\n",
    "2. Steven Soderbergh\n",
    "3. Robert Rodriguez\n",
    "4. Christopher Nolan\n",
    "5. Clint Eastwood"
   ]
  },
  {
   "cell_type": "code",
   "execution_count": 6,
   "metadata": {},
   "outputs": [
    {
     "data": {
      "text/plain": [
       "[('Steven Soderbergh', 13),\n",
       " ('Ridley Scott', 12),\n",
       " ('Clint Eastwood', 12),\n",
       " ('Robert Rodriguez', 11),\n",
       " ('Steven Spielberg', 10)]"
      ]
     },
     "metadata": {},
     "output_type": "display_data"
    }
   ],
   "source": [
    "c = Counter()\n",
    "for index, row in data.iterrows():\n",
    "    directors = row['director'].split('|')\n",
    "    for director in directors:\n",
    "        c[director] += 1\n",
    "display(c.most_common(5))"
   ]
  },
  {
   "cell_type": "code",
   "execution_count": 7,
   "metadata": {},
   "outputs": [
    {
     "data": {
      "text/plain": [
       "[('Ridley Scott', 12),\n",
       " ('Steven Spielberg', 10),\n",
       " ('Clint Eastwood', 10),\n",
       " ('Steven Soderbergh', 10),\n",
       " ('Shawn Levy', 9)]"
      ]
     },
     "metadata": {},
     "output_type": "display_data"
    }
   ],
   "source": [
    "c = Counter()\n",
    "for index, row in data.iterrows():\n",
    "    directors = row['director'].split('|')\n",
    "    for director in directors:\n",
    "        if row['profit'] > 0:\n",
    "            c[director] += 1\n",
    "display(c.most_common(5))"
   ]
  },
  {
   "cell_type": "code",
   "execution_count": 51,
   "metadata": {},
   "outputs": [],
   "source": [
    "answer_ls.append(5)"
   ]
  },
  {
   "cell_type": "markdown",
   "metadata": {},
   "source": [
    "# Submission"
   ]
  },
  {
   "cell_type": "code",
   "execution_count": 52,
   "metadata": {},
   "outputs": [
    {
     "data": {
      "text/plain": [
       "36"
      ]
     },
     "execution_count": 52,
     "metadata": {},
     "output_type": "execute_result"
    }
   ],
   "source": [
    "len(answer_ls)"
   ]
  },
  {
   "cell_type": "code",
   "execution_count": 53,
   "metadata": {},
   "outputs": [
    {
     "data": {
      "text/html": [
       "<div>\n",
       "<style scoped>\n",
       "    .dataframe tbody tr th:only-of-type {\n",
       "        vertical-align: middle;\n",
       "    }\n",
       "\n",
       "    .dataframe tbody tr th {\n",
       "        vertical-align: top;\n",
       "    }\n",
       "\n",
       "    .dataframe thead th {\n",
       "        text-align: right;\n",
       "    }\n",
       "</style>\n",
       "<table border=\"1\" class=\"dataframe\">\n",
       "  <thead>\n",
       "    <tr style=\"text-align: right;\">\n",
       "      <th></th>\n",
       "      <th>Id</th>\n",
       "      <th>Answer</th>\n",
       "    </tr>\n",
       "  </thead>\n",
       "  <tbody>\n",
       "    <tr>\n",
       "      <th>0</th>\n",
       "      <td>1</td>\n",
       "      <td>4</td>\n",
       "    </tr>\n",
       "    <tr>\n",
       "      <th>1</th>\n",
       "      <td>2</td>\n",
       "      <td>2</td>\n",
       "    </tr>\n",
       "    <tr>\n",
       "      <th>2</th>\n",
       "      <td>3</td>\n",
       "      <td>3</td>\n",
       "    </tr>\n",
       "    <tr>\n",
       "      <th>3</th>\n",
       "      <td>4</td>\n",
       "      <td>2</td>\n",
       "    </tr>\n",
       "    <tr>\n",
       "      <th>4</th>\n",
       "      <td>5</td>\n",
       "      <td>1</td>\n",
       "    </tr>\n",
       "    <tr>\n",
       "      <th>5</th>\n",
       "      <td>6</td>\n",
       "      <td>5</td>\n",
       "    </tr>\n",
       "    <tr>\n",
       "      <th>6</th>\n",
       "      <td>7</td>\n",
       "      <td>2</td>\n",
       "    </tr>\n",
       "    <tr>\n",
       "      <th>7</th>\n",
       "      <td>8</td>\n",
       "      <td>1</td>\n",
       "    </tr>\n",
       "    <tr>\n",
       "      <th>8</th>\n",
       "      <td>9</td>\n",
       "      <td>4</td>\n",
       "    </tr>\n",
       "    <tr>\n",
       "      <th>9</th>\n",
       "      <td>10</td>\n",
       "      <td>5</td>\n",
       "    </tr>\n",
       "    <tr>\n",
       "      <th>10</th>\n",
       "      <td>11</td>\n",
       "      <td>4</td>\n",
       "    </tr>\n",
       "    <tr>\n",
       "      <th>11</th>\n",
       "      <td>12</td>\n",
       "      <td>2</td>\n",
       "    </tr>\n",
       "    <tr>\n",
       "      <th>12</th>\n",
       "      <td>13</td>\n",
       "      <td>3</td>\n",
       "    </tr>\n",
       "    <tr>\n",
       "      <th>13</th>\n",
       "      <td>14</td>\n",
       "      <td>4</td>\n",
       "    </tr>\n",
       "    <tr>\n",
       "      <th>14</th>\n",
       "      <td>15</td>\n",
       "      <td>5</td>\n",
       "    </tr>\n",
       "    <tr>\n",
       "      <th>15</th>\n",
       "      <td>16</td>\n",
       "      <td>1</td>\n",
       "    </tr>\n",
       "    <tr>\n",
       "      <th>16</th>\n",
       "      <td>17</td>\n",
       "      <td>2</td>\n",
       "    </tr>\n",
       "    <tr>\n",
       "      <th>17</th>\n",
       "      <td>18</td>\n",
       "      <td>3</td>\n",
       "    </tr>\n",
       "    <tr>\n",
       "      <th>18</th>\n",
       "      <td>19</td>\n",
       "      <td>2</td>\n",
       "    </tr>\n",
       "    <tr>\n",
       "      <th>19</th>\n",
       "      <td>20</td>\n",
       "      <td>4</td>\n",
       "    </tr>\n",
       "    <tr>\n",
       "      <th>20</th>\n",
       "      <td>21</td>\n",
       "      <td>4</td>\n",
       "    </tr>\n",
       "    <tr>\n",
       "      <th>21</th>\n",
       "      <td>22</td>\n",
       "      <td>2</td>\n",
       "    </tr>\n",
       "    <tr>\n",
       "      <th>22</th>\n",
       "      <td>23</td>\n",
       "      <td>3</td>\n",
       "    </tr>\n",
       "    <tr>\n",
       "      <th>23</th>\n",
       "      <td>24</td>\n",
       "      <td>1</td>\n",
       "    </tr>\n",
       "    <tr>\n",
       "      <th>24</th>\n",
       "      <td>25</td>\n",
       "      <td>5</td>\n",
       "    </tr>\n",
       "    <tr>\n",
       "      <th>25</th>\n",
       "      <td>26</td>\n",
       "      <td>1</td>\n",
       "    </tr>\n",
       "    <tr>\n",
       "      <th>26</th>\n",
       "      <td>27</td>\n",
       "      <td>4</td>\n",
       "    </tr>\n",
       "    <tr>\n",
       "      <th>27</th>\n",
       "      <td>28</td>\n",
       "      <td>2</td>\n",
       "    </tr>\n",
       "    <tr>\n",
       "      <th>28</th>\n",
       "      <td>29</td>\n",
       "      <td>5</td>\n",
       "    </tr>\n",
       "    <tr>\n",
       "      <th>29</th>\n",
       "      <td>30</td>\n",
       "      <td>2</td>\n",
       "    </tr>\n",
       "    <tr>\n",
       "      <th>30</th>\n",
       "      <td>31</td>\n",
       "      <td>5</td>\n",
       "    </tr>\n",
       "    <tr>\n",
       "      <th>31</th>\n",
       "      <td>32</td>\n",
       "      <td>1</td>\n",
       "    </tr>\n",
       "    <tr>\n",
       "      <th>32</th>\n",
       "      <td>33</td>\n",
       "      <td>3</td>\n",
       "    </tr>\n",
       "    <tr>\n",
       "      <th>33</th>\n",
       "      <td>34</td>\n",
       "      <td>1</td>\n",
       "    </tr>\n",
       "    <tr>\n",
       "      <th>34</th>\n",
       "      <td>35</td>\n",
       "      <td>5</td>\n",
       "    </tr>\n",
       "    <tr>\n",
       "      <th>35</th>\n",
       "      <td>36</td>\n",
       "      <td>5</td>\n",
       "    </tr>\n",
       "  </tbody>\n",
       "</table>\n",
       "</div>"
      ],
      "text/plain": [
       "    Id  Answer\n",
       "0    1       4\n",
       "1    2       2\n",
       "2    3       3\n",
       "3    4       2\n",
       "4    5       1\n",
       "5    6       5\n",
       "6    7       2\n",
       "7    8       1\n",
       "8    9       4\n",
       "9   10       5\n",
       "10  11       4\n",
       "11  12       2\n",
       "12  13       3\n",
       "13  14       4\n",
       "14  15       5\n",
       "15  16       1\n",
       "16  17       2\n",
       "17  18       3\n",
       "18  19       2\n",
       "19  20       4\n",
       "20  21       4\n",
       "21  22       2\n",
       "22  23       3\n",
       "23  24       1\n",
       "24  25       5\n",
       "25  26       1\n",
       "26  27       4\n",
       "27  28       2\n",
       "28  29       5\n",
       "29  30       2\n",
       "30  31       5\n",
       "31  32       1\n",
       "32  33       3\n",
       "33  34       1\n",
       "34  35       5\n",
       "35  36       5"
      ]
     },
     "execution_count": 53,
     "metadata": {},
     "output_type": "execute_result"
    }
   ],
   "source": [
    "pd.DataFrame({'Id':range(1,len(answer_ls)+1), 'Answer':answer_ls}, columns=['Id', 'Answer'])"
   ]
  },
  {
   "cell_type": "code",
   "execution_count": null,
   "metadata": {},
   "outputs": [],
   "source": []
  }
 ],
 "metadata": {
  "kernelspec": {
   "display_name": "Python 3",
   "language": "python",
   "name": "python3"
  },
  "language_info": {
   "codemirror_mode": {
    "name": "ipython",
    "version": 3
   },
   "file_extension": ".py",
   "mimetype": "text/x-python",
   "name": "python",
   "nbconvert_exporter": "python",
   "pygments_lexer": "ipython3",
   "version": "3.7.6"
  }
 },
 "nbformat": 4,
 "nbformat_minor": 4
}
